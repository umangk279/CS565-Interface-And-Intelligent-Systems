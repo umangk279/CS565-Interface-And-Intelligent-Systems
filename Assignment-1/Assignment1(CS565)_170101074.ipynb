{
  "nbformat": 4,
  "nbformat_minor": 0,
  "metadata": {
    "colab": {
      "name": "Assignment1(CS565)_170101074.ipynb",
      "provenance": [],
      "collapsed_sections": []
    },
    "kernelspec": {
      "name": "python3",
      "display_name": "Python 3"
    }
  },
  "cells": [
    {
      "cell_type": "markdown",
      "metadata": {
        "id": "iN-hR-E_SK7a"
      },
      "source": [
        "# Assignment-1 Solutions for CS565\n",
        "This notebook contains solutions for Assignment-1 in two parts, first for english corpus followed by hindi corpus"
      ]
    },
    {
      "cell_type": "code",
      "metadata": {
        "id": "vAJCf56BkN0c",
        "outputId": "aeedde18-0cf8-4207-9133-0baea1ed08c9",
        "colab": {
          "base_uri": "https://localhost:8080/",
          "height": 709
        }
      },
      "source": [
        "# Downloading files\n",
        "!wget -c 'https://www.dropbox.com/s/1agrh5hdnkqd24c/en_wiki.txt?dl=0' -O en_wiki.txt\n",
        "!wget -c 'https://www.dropbox.com/s/xrx4r9ep28lq5jp/hi_wiki.txt?dl=0' -O hi_wiki.txt"
      ],
      "execution_count": null,
      "outputs": [
        {
          "output_type": "stream",
          "text": [
            "--2020-10-01 09:54:02--  https://www.dropbox.com/s/1agrh5hdnkqd24c/en_wiki.txt?dl=0\n",
            "Resolving www.dropbox.com (www.dropbox.com)... 162.125.1.1, 2620:100:6016:1::a27d:101\n",
            "Connecting to www.dropbox.com (www.dropbox.com)|162.125.1.1|:443... connected.\n",
            "HTTP request sent, awaiting response... 301 Moved Permanently\n",
            "Location: /s/raw/1agrh5hdnkqd24c/en_wiki.txt [following]\n",
            "--2020-10-01 09:54:03--  https://www.dropbox.com/s/raw/1agrh5hdnkqd24c/en_wiki.txt\n",
            "Reusing existing connection to www.dropbox.com:443.\n",
            "HTTP request sent, awaiting response... 302 Found\n",
            "Location: https://uc0f497bf6c1ea918671ab10cce9.dl.dropboxusercontent.com/cd/0/inline/BAY4USFugi8fCqODRH7HAv7SkoNWs5uFSohSeTV6YbkOuFUB_j-0frI--ZSHh4OfUxgYB0gySshQSf6mjqQ3EJ7AKwyoqoci_VtmNO0KqrS3Cpt932AcVP1u_uEaf71ybPo/file# [following]\n",
            "--2020-10-01 09:54:03--  https://uc0f497bf6c1ea918671ab10cce9.dl.dropboxusercontent.com/cd/0/inline/BAY4USFugi8fCqODRH7HAv7SkoNWs5uFSohSeTV6YbkOuFUB_j-0frI--ZSHh4OfUxgYB0gySshQSf6mjqQ3EJ7AKwyoqoci_VtmNO0KqrS3Cpt932AcVP1u_uEaf71ybPo/file\n",
            "Resolving uc0f497bf6c1ea918671ab10cce9.dl.dropboxusercontent.com (uc0f497bf6c1ea918671ab10cce9.dl.dropboxusercontent.com)... 162.125.1.15, 2620:100:6016:15::a27d:10f\n",
            "Connecting to uc0f497bf6c1ea918671ab10cce9.dl.dropboxusercontent.com (uc0f497bf6c1ea918671ab10cce9.dl.dropboxusercontent.com)|162.125.1.15|:443... connected.\n",
            "HTTP request sent, awaiting response... 200 OK\n",
            "Length: 103092525 (98M) [text/plain]\n",
            "Saving to: ‘en_wiki.txt’\n",
            "\n",
            "en_wiki.txt         100%[===================>]  98.32M  87.3MB/s    in 1.1s    \n",
            "\n",
            "2020-10-01 09:54:04 (87.3 MB/s) - ‘en_wiki.txt’ saved [103092525/103092525]\n",
            "\n",
            "--2020-10-01 09:54:04--  https://www.dropbox.com/s/xrx4r9ep28lq5jp/hi_wiki.txt?dl=0\n",
            "Resolving www.dropbox.com (www.dropbox.com)... 162.125.1.1, 2620:100:6016:1::a27d:101\n",
            "Connecting to www.dropbox.com (www.dropbox.com)|162.125.1.1|:443... connected.\n",
            "HTTP request sent, awaiting response... 301 Moved Permanently\n",
            "Location: /s/raw/xrx4r9ep28lq5jp/hi_wiki.txt [following]\n",
            "--2020-10-01 09:54:05--  https://www.dropbox.com/s/raw/xrx4r9ep28lq5jp/hi_wiki.txt\n",
            "Reusing existing connection to www.dropbox.com:443.\n",
            "HTTP request sent, awaiting response... 302 Found\n",
            "Location: https://uc771516c0dbf1759138e857709f.dl.dropboxusercontent.com/cd/0/inline/BAZb24Yfe0ravOi6ioKyhoPOLkmVOHbvO4n-xA5A2kHYVkfnJXmKaxlZnFkoQpHpHEhHo3PeBm4OrPMWJpCAh9huRtQTRRTTt2anMJr7j7lTx47abs3nZjvYeuM_dehPVMQ/file# [following]\n",
            "--2020-10-01 09:54:05--  https://uc771516c0dbf1759138e857709f.dl.dropboxusercontent.com/cd/0/inline/BAZb24Yfe0ravOi6ioKyhoPOLkmVOHbvO4n-xA5A2kHYVkfnJXmKaxlZnFkoQpHpHEhHo3PeBm4OrPMWJpCAh9huRtQTRRTTt2anMJr7j7lTx47abs3nZjvYeuM_dehPVMQ/file\n",
            "Resolving uc771516c0dbf1759138e857709f.dl.dropboxusercontent.com (uc771516c0dbf1759138e857709f.dl.dropboxusercontent.com)... 162.125.1.15, 2620:100:6016:15::a27d:10f\n",
            "Connecting to uc771516c0dbf1759138e857709f.dl.dropboxusercontent.com (uc771516c0dbf1759138e857709f.dl.dropboxusercontent.com)|162.125.1.15|:443... connected.\n",
            "HTTP request sent, awaiting response... 200 OK\n",
            "Length: 103092545 (98M) [text/plain]\n",
            "Saving to: ‘hi_wiki.txt’\n",
            "\n",
            "hi_wiki.txt         100%[===================>]  98.32M  85.4MB/s    in 1.2s    \n",
            "\n",
            "2020-10-01 09:54:06 (85.4 MB/s) - ‘hi_wiki.txt’ saved [103092545/103092545]\n",
            "\n"
          ],
          "name": "stdout"
        }
      ]
    },
    {
      "cell_type": "code",
      "metadata": {
        "id": "QLYhpSQSXHoP",
        "outputId": "52fbde78-36f6-4fc4-d070-a653497e40d2",
        "colab": {
          "base_uri": "https://localhost:8080/",
          "height": 910
        }
      },
      "source": [
        "# Importing all the required libraries\n",
        "\n",
        "import nltk\n",
        "nltk.download('punkt')\n",
        "nltk.download('averaged_perceptron_tagger')\n",
        "from nltk.tokenize import sent_tokenize, word_tokenize\n",
        "from nltk.stem import PorterStemmer \n",
        "import spacy\n",
        "from spacy.lang.en import English\n",
        "from spacy.tokenizer import Tokenizer\n",
        "from nltk import *\n",
        "from nltk.util import ngrams\n",
        "from collections import Counter\n",
        "import numpy as np\n",
        "import matplotlib.pyplot as plt\n",
        "from math import floor\n",
        "from IPython.display import Markdown, display\n",
        "import random \n",
        "!pip install indic-nlp-library\n",
        "from indicnlp.tokenize import sentence_tokenize, indic_tokenize \n",
        "!pip install stanfordnlp\n",
        "import stanfordnlp\n",
        "!pip install -U git+https://github.com/aboSamoor/polyglot.git@master\n",
        "!polyglot download morph2.en\n",
        "!polyglot download morph2.hi\n",
        "from polyglot.text import Text, Word\n",
        "import re, collections"
      ],
      "execution_count": null,
      "outputs": [
        {
          "output_type": "stream",
          "text": [
            "[nltk_data] Downloading package punkt to /root/nltk_data...\n",
            "[nltk_data]   Package punkt is already up-to-date!\n",
            "[nltk_data] Downloading package averaged_perceptron_tagger to\n",
            "[nltk_data]     /root/nltk_data...\n",
            "[nltk_data]   Package averaged_perceptron_tagger is already up-to-\n",
            "[nltk_data]       date!\n",
            "Requirement already satisfied: indic-nlp-library in /usr/local/lib/python3.6/dist-packages (0.71)\n",
            "Requirement already satisfied: numpy in /usr/local/lib/python3.6/dist-packages (from indic-nlp-library) (1.18.5)\n",
            "Requirement already satisfied: morfessor in /usr/local/lib/python3.6/dist-packages (from indic-nlp-library) (2.0.6)\n",
            "Requirement already satisfied: pandas in /usr/local/lib/python3.6/dist-packages (from indic-nlp-library) (1.1.2)\n",
            "Requirement already satisfied: pytz>=2017.2 in /usr/local/lib/python3.6/dist-packages (from pandas->indic-nlp-library) (2018.9)\n",
            "Requirement already satisfied: python-dateutil>=2.7.3 in /usr/local/lib/python3.6/dist-packages (from pandas->indic-nlp-library) (2.8.1)\n",
            "Requirement already satisfied: six>=1.5 in /usr/local/lib/python3.6/dist-packages (from python-dateutil>=2.7.3->pandas->indic-nlp-library) (1.15.0)\n",
            "Requirement already satisfied: stanfordnlp in /usr/local/lib/python3.6/dist-packages (0.2.0)\n",
            "Requirement already satisfied: tqdm in /usr/local/lib/python3.6/dist-packages (from stanfordnlp) (4.41.1)\n",
            "Requirement already satisfied: torch>=1.0.0 in /usr/local/lib/python3.6/dist-packages (from stanfordnlp) (1.6.0+cu101)\n",
            "Requirement already satisfied: protobuf in /usr/local/lib/python3.6/dist-packages (from stanfordnlp) (3.12.4)\n",
            "Requirement already satisfied: requests in /usr/local/lib/python3.6/dist-packages (from stanfordnlp) (2.23.0)\n",
            "Requirement already satisfied: numpy in /usr/local/lib/python3.6/dist-packages (from stanfordnlp) (1.18.5)\n",
            "Requirement already satisfied: future in /usr/local/lib/python3.6/dist-packages (from torch>=1.0.0->stanfordnlp) (0.16.0)\n",
            "Requirement already satisfied: setuptools in /usr/local/lib/python3.6/dist-packages (from protobuf->stanfordnlp) (50.3.0)\n",
            "Requirement already satisfied: six>=1.9 in /usr/local/lib/python3.6/dist-packages (from protobuf->stanfordnlp) (1.15.0)\n",
            "Requirement already satisfied: certifi>=2017.4.17 in /usr/local/lib/python3.6/dist-packages (from requests->stanfordnlp) (2020.6.20)\n",
            "Requirement already satisfied: chardet<4,>=3.0.2 in /usr/local/lib/python3.6/dist-packages (from requests->stanfordnlp) (3.0.4)\n",
            "Requirement already satisfied: urllib3!=1.25.0,!=1.25.1,<1.26,>=1.21.1 in /usr/local/lib/python3.6/dist-packages (from requests->stanfordnlp) (1.24.3)\n",
            "Requirement already satisfied: idna<3,>=2.5 in /usr/local/lib/python3.6/dist-packages (from requests->stanfordnlp) (2.10)\n",
            "Collecting git+https://github.com/aboSamoor/polyglot.git@master\n",
            "  Cloning https://github.com/aboSamoor/polyglot.git (to revision master) to /tmp/pip-req-build-r6i96621\n",
            "  Running command git clone -q https://github.com/aboSamoor/polyglot.git /tmp/pip-req-build-r6i96621\n",
            "Requirement already satisfied, skipping upgrade: PyICU>=1.8 in /usr/local/lib/python3.6/dist-packages (from polyglot==16.7.4) (2.5)\n",
            "Requirement already satisfied, skipping upgrade: pycld2>=0.3 in /usr/local/lib/python3.6/dist-packages (from polyglot==16.7.4) (0.41)\n",
            "Requirement already satisfied, skipping upgrade: morfessor>=2.0.2a1 in /usr/local/lib/python3.6/dist-packages (from polyglot==16.7.4) (2.0.6)\n",
            "Requirement already satisfied, skipping upgrade: numpy>=1.6.1 in /usr/local/lib/python3.6/dist-packages (from polyglot==16.7.4) (1.18.5)\n",
            "Requirement already satisfied, skipping upgrade: wheel>=0.23.0 in /usr/local/lib/python3.6/dist-packages (from polyglot==16.7.4) (0.35.1)\n",
            "Requirement already satisfied, skipping upgrade: futures>=2.1.6 in /usr/local/lib/python3.6/dist-packages (from polyglot==16.7.4) (3.1.1)\n",
            "Requirement already satisfied, skipping upgrade: six>=1.7.3 in /usr/local/lib/python3.6/dist-packages (from polyglot==16.7.4) (1.15.0)\n",
            "Building wheels for collected packages: polyglot\n",
            "  Building wheel for polyglot (setup.py) ... \u001b[?25l\u001b[?25hdone\n",
            "  Created wheel for polyglot: filename=polyglot-16.7.4-py2.py3-none-any.whl size=70643 sha256=38b56af6e714b26b498767934ed2a2d518a2874143123afa2e9ed009787cd1a7\n",
            "  Stored in directory: /tmp/pip-ephem-wheel-cache-qrhrole4/wheels/42/d9/73/345c7ae8554299ff8b31635d64eb8455fd591385fa734cdbef\n",
            "Successfully built polyglot\n",
            "Installing collected packages: polyglot\n",
            "  Found existing installation: polyglot 16.7.4\n",
            "    Uninstalling polyglot-16.7.4:\n",
            "      Successfully uninstalled polyglot-16.7.4\n",
            "Successfully installed polyglot-16.7.4\n",
            "[polyglot_data] Downloading package morph2.en to\n",
            "[polyglot_data]     /root/polyglot_data...\n",
            "[polyglot_data]   Package morph2.en is already up-to-date!\n",
            "[polyglot_data] Downloading package morph2.hi to\n",
            "[polyglot_data]     /root/polyglot_data...\n",
            "[polyglot_data]   Package morph2.hi is already up-to-date!\n"
          ],
          "name": "stdout"
        }
      ]
    },
    {
      "cell_type": "markdown",
      "metadata": {
        "id": "425zZF6-SXfg"
      },
      "source": [
        "# Solutions for English Corpus"
      ]
    },
    {
      "cell_type": "code",
      "metadata": {
        "id": "_ZY1Y_rGuLSN"
      },
      "source": [
        "# Reading text from given corpus\n",
        "\n",
        "text = open('/content/en_wiki.txt').read()\n",
        "text = text[0:len(text)//4]"
      ],
      "execution_count": null,
      "outputs": []
    },
    {
      "cell_type": "markdown",
      "metadata": {
        "id": "JXMFGynvVbS5"
      },
      "source": [
        "## 1.3.1 Analysis using existing NLP tools"
      ]
    },
    {
      "cell_type": "markdown",
      "metadata": {
        "id": "yP_tnNSXWISZ"
      },
      "source": [
        "### 1.3.1.1"
      ]
    },
    {
      "cell_type": "code",
      "metadata": {
        "id": "_XHbgM6NXroo",
        "outputId": "080ffa4f-2136-49e7-b308-5e2b686a62af",
        "colab": {
          "base_uri": "https://localhost:8080/",
          "height": 232
        }
      },
      "source": [
        "# Using nltk\n",
        "\n",
        "# Sentence Segmentation\n",
        "sent_tokenize_list = sent_tokenize(text)\n",
        "\n",
        "# Word Tokenization\n",
        "word_tokenize_list = word_tokenize(text)\n",
        "\n",
        "display(Markdown(\"## Sentece Segmentation using NLTK\"))\n",
        "print(\"Number of sentences: \"+ str(len(sent_tokenize_list)))\n",
        "print(\"First 50 sentences are: \")\n",
        "print(sent_tokenize_list[:50])\n",
        "display(Markdown(\"## Word Tokenization using NLTK\"))\n",
        "print(\"Number of words: \"+ str(len(word_tokenize_list)))\n",
        "print(\"First 50 words are: \")\n",
        "print(word_tokenize_list[:50])"
      ],
      "execution_count": null,
      "outputs": [
        {
          "output_type": "display_data",
          "data": {
            "text/markdown": "## Sentece Segmentation using NLTK",
            "text/plain": [
              "<IPython.core.display.Markdown object>"
            ]
          },
          "metadata": {
            "tags": []
          }
        },
        {
          "output_type": "stream",
          "text": [
            "Number of sentences: 213196\n",
            "First 50 sentences are: \n",
            "['The word \"atom\" was coined by ancient Greek philosophers.', 'However, these ideas were founded in philosophical and theological reasoning rather than evidence and experimentation.', 'As a result, their views on what atoms look like and how they behave were incorrect.', 'They also could not convince everybody, so atomism was but one of a number of competing theories on the nature of matter.', 'It was not until the 19th century that the idea was embraced and refined by scientists, when the blossoming science of chemistry produced discoveries that only the concept of atoms could explain.', 'In the early 1800s, John Dalton used the concept of atoms to explain why elements always react in ratios of small whole numbers (the law of multiple proportions).', 'For instance, there are two types of tin oxide: one is 88.1% tin and 11.9% oxygen and the other is 78.7% tin and 21.3% oxygen (tin(II) oxide and tin dioxide respectively).', 'This means that 100g of tin will combine either with 13.5g or 27g of oxygen.', '13.5 and 27 form a ratio of 1:2, a ratio of small whole numbers.', 'This common pattern in chemistry suggested to Dalton that elements react in whole number multiples of discrete units—in other words, atoms.', 'In the case of tin oxides, one tin atom will combine with either one or two oxygen atoms.', 'Dalton also believed atomic theory could explain why water absorbs different gases in different proportions.', 'For example, he found that water absorbs carbon dioxide far better than it absorbs nitrogen.', \"Dalton hypothesized this was due to the differences in mass and complexity of the gases' respective particles.\", 'Indeed, carbon dioxide molecules (CO) are heavier and larger than nitrogen molecules (N).', 'In 1827, botanist Robert Brown used a microscope to look at dust grains floating in water and discovered that they moved about erratically, a phenomenon that became known as \"Brownian motion\".', 'This was thought to be caused by water molecules knocking the grains about.', 'In 1905 Albert Einstein proved the reality of these molecules and their motions by producing the first Statistical physics analysis of Brownian motion.', \"French physicist Jean Perrin used Einstein's work to experimentally determine the mass and dimensions of atoms, thereby conclusively verifying Dalton's atomic theory.\", 'The physicist J. J. Thomson measured the mass of cathode rays, showing they were made of particles, but were around 1800 times lighter than the lightest atom, hydrogen.', 'Therefore, they were not atoms, but a new particle, the first \"subatomic\" particle to be discovered, which he originally called \"\"corpuscle\"\" but was later named \"electron\", after particles postulated by George Johnstone Stoney in 1874.', 'He also showed they were identical to particles given off by photoelectric and radioactive materials.', 'It was quickly recognized that they are the particles that carry electric currents in metal wires, and carry the negative electric charge within atoms.', 'Thomson was given the 1906 Nobel Prize in Physics for this work.', 'Thus he overturned the belief that atoms are the indivisible, ultimate particles of matter.', 'Thomson also incorrectly postulated that the low mass, negatively charged electrons were distributed throughout the atom in a uniform sea of positive charge.', 'This became known as the plum pudding model.', 'In 1909, Hans Geiger and Ernest Marsden, under the direction of Ernest Rutherford, bombarded a metal foil with alpha particles to observe how they scattered.', \"They expected all the alpha particles to pass straight through with little deflection, because Thomson's model said that the charges in the atom are so diffuse that their electric fields could not affect the alpha particles much.\", \"However, Geiger and Marsden spotted alpha particles being deflected by angles greater than 90°, which was supposed to be impossible according to Thomson's model.\", 'To explain this, Rutherford proposed that the positive charge of the atom is concentrated in a tiny nucleus at the center of the atom.', 'While experimenting with the products of radioactive decay, in 1913 radiochemist Frederick Soddy discovered that there appeared to be more than one type of atom at each position on the periodic table.', 'The term isotope was coined by Margaret Todd as a suitable name for different atoms that belong to the same element.', 'J.J. Thomson created a technique for separating atom types through his work on ionized gases, which subsequently led to the discovery of stable isotopes.', 'In 1913 the physicist Niels Bohr proposed a model in which the electrons of an atom were assumed to orbit the nucleus but could only do so in a finite set of orbits, and could jump between these orbits only in discrete changes of energy corresponding to absorption or radiation of a photon.', 'This quantization was used to explain why the electrons orbits are stable (given that normally, charges in acceleration, including circular motion, lose kinetic energy which is emitted as electromagnetic radiation, see \"synchrotron radiation\") and why elements absorb and emit electromagnetic radiation in discrete spectra.', \"Later in the same year Henry Moseley provided additional experimental evidence in favor of Niels Bohr's theory.\", \"These results refined Ernest Rutherford's and Antonius Van den Broek's model, which proposed that the atom contains in its nucleus a number of positive nuclear charges that is equal to its (atomic) number in the periodic table.\", 'Until these experiments, atomic number was not known to be a physical and experimental quantity.', 'That it is equal to the atomic nuclear charge remains the accepted atomic model today.', 'Chemical bonds between atoms were now explained, by Gilbert Newton Lewis in 1916, as the interactions between their constituent electrons.', 'As the chemical properties of the elements were known to largely repeat themselves according to the periodic law, in 1919 the American chemist Irving Langmuir suggested that this could be explained if the electrons in an atom were connected or clustered in some manner.', 'Groups of electrons were thought to occupy a set of electron shells about the nucleus.', 'The Stern–Gerlach experiment of 1922 provided further evidence of the quantum nature of the atom.', \"When a beam of silver atoms was passed through a specially shaped magnetic field, the beam was split based on the direction of an atom's angular momentum, or spin.\", 'As this direction is random, the beam could be expected to spread into a line.', 'Instead, the beam was split into two parts, depending on whether the atomic spin was oriented up or down.', 'In 1924, Louis de Broglie proposed that all particles behave to an extent like waves.', 'In 1926, Erwin Schrödinger used this idea to develop a mathematical model of the atom that described the electrons as three-dimensional waveforms rather than point particles.', 'A consequence of using waveforms to describe particles is that it is mathematically impossible to obtain precise values for both the position and momentum of a particle at a given point in time; this became known as the uncertainty principle, formulated by Werner Heisenberg in 1926.']\n"
          ],
          "name": "stdout"
        },
        {
          "output_type": "display_data",
          "data": {
            "text/markdown": "## Word Tokenization using NLTK",
            "text/plain": [
              "<IPython.core.display.Markdown object>"
            ]
          },
          "metadata": {
            "tags": []
          }
        },
        {
          "output_type": "stream",
          "text": [
            "Number of words: 5057940\n",
            "First 50 words are: \n",
            "['The', 'word', '``', 'atom', \"''\", 'was', 'coined', 'by', 'ancient', 'Greek', 'philosophers', '.', 'However', ',', 'these', 'ideas', 'were', 'founded', 'in', 'philosophical', 'and', 'theological', 'reasoning', 'rather', 'than', 'evidence', 'and', 'experimentation', '.', 'As', 'a', 'result', ',', 'their', 'views', 'on', 'what', 'atoms', 'look', 'like', 'and', 'how', 'they', 'behave', 'were', 'incorrect', '.', 'They', 'also', 'could']\n"
          ],
          "name": "stdout"
        }
      ]
    },
    {
      "cell_type": "code",
      "metadata": {
        "id": "aweatC_kb17L",
        "outputId": "a9abbb6d-8c3d-4f98-df1d-3154c165c417",
        "colab": {
          "base_uri": "https://localhost:8080/",
          "height": 232
        }
      },
      "source": [
        "# Using spaCy\n",
        "\n",
        "nlp = English()\n",
        "sentencizer = nlp.create_pipe(\"sentencizer\")\n",
        "nlp.add_pipe(sentencizer)\n",
        "nlp.max_length = 100000000\n",
        "doc = nlp(text)\n",
        "\n",
        "# Sentece Segmentation\n",
        "sent_tokenize_list_spacy = [sentence.text for sentence in doc.sents]\n",
        "\n",
        "# Word Tokenization\n",
        "tokenizer = nlp.Defaults.create_tokenizer(nlp)\n",
        "word_tokenize_list_spacy = tokenizer(text)\n",
        "\n",
        "display(Markdown(\"## Sentece Segmentation using spaCy\"))\n",
        "print(\"Number of sentences: \"+ str(len(sent_tokenize_list_spacy)))\n",
        "print(\"First 50 sentences are: \")\n",
        "print(sent_tokenize_list_spacy[:50])\n",
        "display(Markdown(\"## Word Tokenization using spaCy\"))\n",
        "print(\"Number of words: \"+ str(len(word_tokenize_list_spacy)))\n",
        "print(\"First 50 words are: \")\n",
        "print(*word_tokenize_list_spacy[:50], sep=\" , \")"
      ],
      "execution_count": null,
      "outputs": [
        {
          "output_type": "display_data",
          "data": {
            "text/markdown": "## Sentece Segmentation using spaCy",
            "text/plain": [
              "<IPython.core.display.Markdown object>"
            ]
          },
          "metadata": {
            "tags": []
          }
        },
        {
          "output_type": "stream",
          "text": [
            "Number of sentences: 212133\n",
            "First 50 sentences are: \n",
            "['The word \"atom\" was coined by ancient Greek philosophers.', 'However, these ideas were founded in philosophical and theological reasoning rather than evidence and experimentation.', 'As a result, their views on what atoms look like and how they behave were incorrect.', 'They also could not convince everybody, so atomism was but one of a number of competing theories on the nature of matter.', 'It was not until the 19th century that the idea was embraced and refined by scientists, when the blossoming science of chemistry produced discoveries that only the concept of atoms could explain.', '\\n\\nIn the early 1800s, John Dalton used the concept of atoms to explain why elements always react in ratios of small whole numbers (the law of multiple proportions).', 'For instance, there are two types of tin oxide: one is 88.1% tin and 11.9% oxygen and the other is 78.7% tin and 21.3% oxygen (tin(II) oxide and tin dioxide respectively).', 'This means that 100g of tin will combine either with 13.5g or 27g of oxygen.', '13.5 and 27 form a ratio of 1:2, a ratio of small whole numbers.', 'This common pattern in chemistry suggested to Dalton that elements react in whole number multiples of discrete units—in other words, atoms.', 'In the case of tin oxides, one tin atom will combine with either one or two oxygen atoms.', '\\n\\nDalton also believed atomic theory could explain why water absorbs different gases in different proportions.', 'For example, he found that water absorbs carbon dioxide far better than it absorbs nitrogen.', \"Dalton hypothesized this was due to the differences in mass and complexity of the gases' respective particles.\", 'Indeed, carbon dioxide molecules (CO) are heavier and larger than nitrogen molecules (N).', '\\n\\nIn 1827, botanist Robert Brown used a microscope to look at dust grains floating in water and discovered that they moved about erratically, a phenomenon that became known as \"Brownian motion\".', 'This was thought to be caused by water molecules knocking the grains about.', 'In 1905 Albert Einstein proved the reality of these molecules and their motions by producing the first Statistical physics analysis of Brownian motion.', \"French physicist Jean Perrin used Einstein's work to experimentally determine the mass and dimensions of atoms, thereby conclusively verifying Dalton's atomic theory.\", '\\n\\nThe physicist J. J. Thomson measured the mass of cathode rays, showing they were made of particles, but were around 1800 times lighter than the lightest atom, hydrogen.', 'Therefore, they were not atoms, but a new particle, the first \"subatomic\" particle to be discovered, which he originally called \"\"corpuscle\"\" but was later named \"electron\", after particles postulated by George Johnstone Stoney in 1874.', 'He also showed they were identical to particles given off by photoelectric and radioactive materials.', 'It was quickly recognized that they are the particles that carry electric currents in metal wires, and carry the negative electric charge within atoms.', 'Thomson was given the 1906 Nobel Prize in Physics for this work.', 'Thus he overturned the belief that atoms are the indivisible, ultimate particles of matter.', 'Thomson also incorrectly postulated that the low mass, negatively charged electrons were distributed throughout the atom in a uniform sea of positive charge.', 'This became known as the plum pudding model.', '\\n\\nIn 1909, Hans Geiger and Ernest Marsden, under the direction of Ernest Rutherford, bombarded a metal foil with alpha particles to observe how they scattered.', \"They expected all the alpha particles to pass straight through with little deflection, because Thomson's model said that the charges in the atom are so diffuse that their electric fields could not affect the alpha particles much.\", \"However, Geiger and Marsden spotted alpha particles being deflected by angles greater than 90°, which was supposed to be impossible according to Thomson's model.\", 'To explain this, Rutherford proposed that the positive charge of the atom is concentrated in a tiny nucleus at the center of the atom.', '\\n\\nWhile experimenting with the products of radioactive decay, in 1913 radiochemist Frederick Soddy discovered that there appeared to be more than one type of atom at each position on the periodic table.', 'The term isotope was coined by Margaret Todd as a suitable name for different atoms that belong to the same element.', 'J.J. Thomson created a technique for separating atom types through his work on ionized gases, which subsequently led to the discovery of stable isotopes.', '\\n\\nIn 1913 the physicist Niels Bohr proposed a model in which the electrons of an atom were assumed to orbit the nucleus but could only do so in a finite set of orbits, and could jump between these orbits only in discrete changes of energy corresponding to absorption or radiation of a photon.', 'This quantization was used to explain why the electrons orbits are stable (given that normally, charges in acceleration, including circular motion, lose kinetic energy which is emitted as electromagnetic radiation, see \"synchrotron radiation\") and why elements absorb and emit electromagnetic radiation in discrete spectra.', \"\\n\\nLater in the same year Henry Moseley provided additional experimental evidence in favor of Niels Bohr's theory.\", \"These results refined Ernest Rutherford's and Antonius Van den Broek's model, which proposed that the atom contains in its nucleus a number of positive nuclear charges that is equal to its (atomic) number in the periodic table.\", 'Until these experiments, atomic number was not known to be a physical and experimental quantity.', 'That it is equal to the atomic nuclear charge remains the accepted atomic model today.', '\\n\\nChemical bonds between atoms were now explained, by Gilbert Newton Lewis in 1916, as the interactions between their constituent electrons.', 'As the chemical properties of the elements were known to largely repeat themselves according to the periodic law, in 1919 the American chemist Irving Langmuir suggested that this could be explained if the electrons in an atom were connected or clustered in some manner.', 'Groups of electrons were thought to occupy a set of electron shells about the nucleus.', '\\n\\nThe Stern–Gerlach experiment of 1922 provided further evidence of the quantum nature of the atom.', \"When a beam of silver atoms was passed through a specially shaped magnetic field, the beam was split based on the direction of an atom's angular momentum, or spin.\", 'As this direction is random, the beam could be expected to spread into a line.', 'Instead, the beam was split into two parts, depending on whether the atomic spin was oriented up or down.', '\\n\\nIn 1924, Louis de Broglie proposed that all particles behave to an extent like waves.', 'In 1926, Erwin Schrödinger used this idea to develop a mathematical model of the atom that described the electrons as three-dimensional waveforms rather than point particles.', 'A consequence of using waveforms to describe particles is that it is mathematically impossible to obtain precise values for both the position and momentum of a particle at a given point in time; this became known as the uncertainty principle, formulated by Werner Heisenberg in 1926.']\n"
          ],
          "name": "stdout"
        },
        {
          "output_type": "display_data",
          "data": {
            "text/markdown": "## Word Tokenization using spaCy",
            "text/plain": [
              "<IPython.core.display.Markdown object>"
            ]
          },
          "metadata": {
            "tags": []
          }
        },
        {
          "output_type": "stream",
          "text": [
            "Number of words: 5229511\n",
            "First 50 words are: \n",
            "The , word , \" , atom , \" , was , coined , by , ancient , Greek , philosophers , . , However , , , these , ideas , were , founded , in , philosophical , and , theological , reasoning , rather , than , evidence , and , experimentation , . , As , a , result , , , their , views , on , what , atoms , look , like , and , how , they , behave , were , incorrect , . , They , also , could\n"
          ],
          "name": "stdout"
        }
      ]
    },
    {
      "cell_type": "markdown",
      "metadata": {
        "id": "wZA6k5V6twsh"
      },
      "source": [
        "### 1.3.1.2"
      ]
    },
    {
      "cell_type": "code",
      "metadata": {
        "id": "7NVBcyNEt1Gd",
        "outputId": "3787af16-00bd-4501-dd64-7cfc49a08934",
        "colab": {
          "base_uri": "https://localhost:8080/",
          "height": 491
        }
      },
      "source": [
        "# Unigrams and plot for frequency distribution\n",
        "\n",
        "uni_grams = ngrams(word_tokenize(text),1)\n",
        "fdist_uni = nltk.FreqDist(uni_grams)\n",
        "\n",
        "print(\"10 most common Unigrams are: \")\n",
        "print(fdist_uni.most_common(10))\n",
        "print(\"10 least common Unigrams are: \")\n",
        "print(fdist_uni.most_common()[-100:])\n",
        "\n",
        "freq_values = sorted(fdist_uni.values(), reverse=True)\n",
        "x_labels = [ i for i in range(1,101)]\n",
        "plt.figure(figsize=(12, 6))\n",
        "plt.title(\"Unigram Frequency Distribution Plot - English\")\n",
        "plt.xlabel(\"Most common 100 unigrams\")\n",
        "plt.ylabel(\"Frequencies\")\n",
        "plt.plot(x_labels,freq_values[:100])\n",
        "plt.show()\n"
      ],
      "execution_count": null,
      "outputs": [
        {
          "output_type": "stream",
          "text": [
            "10 most common Unigrams are: \n",
            "[(('the',), 269127), ((',',), 269120), (('.',), 212501), (('of',), 192358), (('and',), 131288), (('%',), 88930), (('in',), 86403), (('a',), 80479), (('was',), 78225), (('to',), 77802)]\n",
            "10 least common Unigrams are: \n",
            "[(('11–13',), 1), (('Sacramento–Kings',), 1), (('Cauley-Stein',), 1), (('mid-2016',), 1), (('ROCHESTER',), 1), (('city/team',), 1), (('half-basketball',), 1), ((\"'Royals\",), 1), (('1994–97',), 1), (('half-purple',), 1), (('half-black',), 1), (('2008-era',), 1), (('1994–2002',), 1), ((\"'85–'90\",), 1), (('Slamson',), 1), (('climaxing',), 1), (('Zero-coupon',), 1), (('semi-annually',), 1), (('Long-term',), 1), (('maturities',), 1), (('STRIPS',), 1), (('non-callable',), 1), (('bonds—often',), 1), (('issues—to',), 1), (('pieces—the',), 1), (('depository',), 1), (('custodian',), 1), (('agent/registrar',), 1), (('Pension',), 1), (('immunize',), 1), (('impute',), 1), (('tax-deferred',), 1), (('tax-savings',), 1), (('loopholes',), 1), (('accrual',), 1), (('CBDT',), 1), (('all-encompassing',), 1), (('handscroll',), 1), (('Qingming',), 1), (('horama',), 1), (('wide-angle',), 1), (('Wenceslas',), 1), (('Hollar',), 1), (('Bankside',), 1), (('Oeil',), 1), (('1764–1823',), 1), (('Props',), 1), (('Meisel',), 1), (('Realizations',), 1), (('feisty',), 1), (('fixed-circle',), 1), (('cycloramas',), 1), (('stillness',), 1), (('tomblike',), 1), (('unrolling',), 1), (('canvas-backed',), 1), (('Piozzi',), 1), (('romantics',), 1), (('charade',), 1), (('enveloping',), 1), (('lulled',), 1), (('stupors',), 1), (('Schadau',), 1), (('great-circle',), 1), (('Panoramania',), 1), (('Kościuszko',), 1), (('Mamayev',), 1), (('Borodino',), 1), (('Poklonnaya',), 1), (('Plevna',), 1), (('115×15-metre',), 1), (('12-meter',), 1), (('Versailes',), 1), (('willed',), 1), (('resell',), 1), (('Hardiman',), 1), (('Cropsey',), 1), (('Grandeur',), 1), (('paintings—measures',), 1), (('Montroville',), 1), (('Dickeson',), 1), (('Dobrzynski',), 1), (('Purrington',), 1), (('1295',), 1), (('Canvass',), 1), (('handbills',), 1), (('Flickr',), 1), (('1807–1882',), 1), (('4½',), 1), (('Arrival',), 1), (('Árpád',), 1), (('Feszty',), 1), (('Ópusztaszer',), 1), (('Carpathian',), 1), (('Hennings',), 1), (('Commissioned',), 1), (('taxidermist',), 1), (('Liljefors',), 1), (('Fjæstad',), 1), (('Kjell',), 1)]\n"
          ],
          "name": "stdout"
        },
        {
          "output_type": "display_data",
          "data": {
            "image/png": "[encoded data removed]",
            "text/plain": [
              "<Figure size 864x432 with 1 Axes>"
            ]
          },
          "metadata": {
            "tags": [],
            "needs_background": "light"
          }
        }
      ]
    },
    {
      "cell_type": "markdown",
      "metadata": {
        "id": "XzSaQ_I-0k_m"
      },
      "source": [
        "### 1.3.1.3"
      ]
    },
    {
      "cell_type": "code",
      "metadata": {
        "id": "1RW5lk7Szozg",
        "outputId": "e004f9ba-b225-410f-d310-36fb3c6ca34b",
        "colab": {
          "base_uri": "https://localhost:8080/",
          "height": 458
        }
      },
      "source": [
        "# Bigrams and plot for frequency distribution\n",
        "\n",
        "bi_grams = ngrams(word_tokenize(text),2)\n",
        "fdist_bi = nltk.FreqDist(bi_grams)\n",
        "\n",
        "print(\"10 most common Bigrams are: \")\n",
        "print(fdist_bi.most_common(10))\n",
        "\n",
        "freq_values = sorted(fdist_bi.values(), reverse=True)\n",
        "x_labels = [ i for i in range(1,101) ]\n",
        "plt.figure(figsize=(12, 6))\n",
        "plt.title(\"Bigram Frequency Distribution Plot - English\")\n",
        "plt.xlabel(\"Most common 100 bigrams\")\n",
        "plt.ylabel(\"Frequencies\")\n",
        "plt.plot(x_labels,freq_values[:100])\n",
        "plt.show()"
      ],
      "execution_count": null,
      "outputs": [
        {
          "output_type": "stream",
          "text": [
            "10 most common Bigrams are: \n",
            "[(('.', 'The'), 55748), (('of', 'the'), 49982), ((',', 'and'), 40002), (('in', 'the'), 29304), (('%', 'of'), 21400), ((',', 'the'), 19033), (('%', 'from'), 16433), (('and', 'the'), 15595), (('to', 'the'), 14677), (('.', 'In'), 14600)]\n"
          ],
          "name": "stdout"
        },
        {
          "output_type": "display_data",
          "data": {
            "image/png": "[encoded data removed]",
            "text/plain": [
              "<Figure size 864x432 with 1 Axes>"
            ]
          },
          "metadata": {
            "tags": [],
            "needs_background": "light"
          }
        }
      ]
    },
    {
      "cell_type": "markdown",
      "metadata": {
        "id": "W2QdAoQH0s6g"
      },
      "source": [
        "### 1.3.1.4"
      ]
    },
    {
      "cell_type": "code",
      "metadata": {
        "id": "fYHbdZrI0ElI",
        "outputId": "3a2d59bb-b55f-4ea7-f51d-6c7957796d9d",
        "colab": {
          "base_uri": "https://localhost:8080/",
          "height": 404
        }
      },
      "source": [
        "# Trigrams and plot for frequency distribution\n",
        "\n",
        "tri_grams = ngrams(word_tokenize(text),3)\n",
        "fdist_tri = nltk.FreqDist(tri_grams)\n",
        "\n",
        "print(\"10 most common Trigrams are: \")\n",
        "print(fdist_tri.most_common(10))\n",
        "\n",
        "freq_values = sorted(fdist_tri.values(), reverse=True)\n",
        "x_labels = [ i for i in range(1,101) ]\n",
        "plt.figure(figsize=(12, 6))\n",
        "plt.title(\"Trigram Frequency Distribution Plot\")\n",
        "plt.xlabel(\"Most common 100 trigrams\")\n",
        "plt.ylabel(\"Frequencies\")\n",
        "plt.plot(x_labels,freq_values[:100])\n",
        "plt.show()"
      ],
      "execution_count": null,
      "outputs": [
        {
          "output_type": "display_data",
          "data": {
            "image/png": "[encoded data removed]",
            "text/plain": [
              "<Figure size 864x432 with 1 Axes>"
            ]
          },
          "metadata": {
            "tags": [],
            "needs_background": "light"
          }
        }
      ]
    },
    {
      "cell_type": "markdown",
      "metadata": {
        "id": "p8tUEIXg0wyf"
      },
      "source": [
        "### Zipf's law curve fitting"
      ]
    },
    {
      "cell_type": "code",
      "metadata": {
        "id": "w3dE8Y-H6tr6",
        "outputId": "5408fc58-3f38-4faa-a75c-f2e4e2e01398",
        "colab": {
          "base_uri": "https://localhost:8080/",
          "height": 438
        }
      },
      "source": [
        "# Getting log values for frequency plot\n",
        "freq_values = sorted(fdist_uni.values(), reverse=True)\n",
        "x_labels = [ i for i in range(1,len(freq_values)+1) ]\n",
        "log_freq_values = np.asarray([np.log(i) for i in freq_values])\n",
        "log_x_labels = np.asarray([np.log(i) for i in x_labels])\n",
        "plt.figure(figsize=(12, 6))\n",
        "plt.title(\"Unigram Frequency Distribution Plot vs Zipf's Law\")\n",
        "plt.xlabel(\"Unigrams\")\n",
        "plt.ylabel(\"Frequencies\")\n",
        "\n",
        "slope, intercept = np.polyfit(log_x_labels, log_freq_values, 1)\n",
        "plt.plot(log_x_labels,log_freq_values)\n",
        "plt.plot(log_x_labels, slope*log_x_labels+intercept, color=\"red\")\n",
        "plt.show()\n",
        "print(\"Slope: \"+str(slope))\n",
        "print(\"Intercept: \"+str(intercept))"
      ],
      "execution_count": null,
      "outputs": [
        {
          "output_type": "display_data",
          "data": {
            "image/png": "[encoded data removed]",
            "text/plain": [
              "<Figure size 864x432 with 1 Axes>"
            ]
          },
          "metadata": {
            "tags": [],
            "needs_background": "light"
          }
        },
        {
          "output_type": "stream",
          "text": [
            "Slope: -1.3329679351853299\n",
            "Intercept: 15.471324627261797\n"
          ],
          "name": "stdout"
        }
      ]
    },
    {
      "cell_type": "markdown",
      "metadata": {
        "id": "wMDLVU9iBrAr"
      },
      "source": [
        "## 1.3.2 Few Basic Questions"
      ]
    },
    {
      "cell_type": "code",
      "metadata": {
        "id": "Bv1MAvR2JDpR"
      },
      "source": [
        "def get_coverage_number(total_grams, percentage, freq_values):\n",
        "  required_grams = 0\n",
        "  gram_coverage = 0\n",
        "  for freq in freq_values:\n",
        "    if gram_coverage <= percentage*total_grams:\n",
        "      required_grams += 1\n",
        "      gram_coverage += freq\n",
        "    else:\n",
        "      break\n",
        "  return required_grams"
      ],
      "execution_count": null,
      "outputs": []
    },
    {
      "cell_type": "markdown",
      "metadata": {
        "id": "YFNb4M2rCUum"
      },
      "source": [
        "### 1.3.2.1"
      ]
    },
    {
      "cell_type": "code",
      "metadata": {
        "id": "WRDF4T8WBywG",
        "outputId": "8bbf1770-1f87-47fb-813d-520ac531818b",
        "colab": {
          "base_uri": "https://localhost:8080/",
          "height": 50
        }
      },
      "source": [
        "total_unigrams = fdist_uni.N()\n",
        "freq_values = sorted(fdist_uni.values(), reverse=True)\n",
        "required_unigrams = get_coverage_number(total_unigrams, 0.9, freq_values)\n",
        "print(\"Total number of unigrams: \"+str(total_unigrams))\n",
        "print(\"Uni-grams required for 90% coverage: \"+str(required_unigrams))"
      ],
      "execution_count": null,
      "outputs": [
        {
          "output_type": "stream",
          "text": [
            "Total number of unigrams: 5057940\n",
            "Uni-grams required for 90% coverage: 8947\n"
          ],
          "name": "stdout"
        }
      ]
    },
    {
      "cell_type": "markdown",
      "metadata": {
        "id": "b8Nk8TeqJ9Ae"
      },
      "source": [
        "### 1.3.2.2"
      ]
    },
    {
      "cell_type": "code",
      "metadata": {
        "id": "obYu0BCcJ8VI",
        "outputId": "06945d52-8a67-4c4b-f6ce-26b7847f41e0",
        "colab": {
          "base_uri": "https://localhost:8080/",
          "height": 50
        }
      },
      "source": [
        "total_bigrams = fdist_bi.N()\n",
        "freq_values = sorted(fdist_bi.values(), reverse=True)\n",
        "required_bigrams = get_coverage_number(total_bigrams, 0.8, freq_values)\n",
        "print(\"Total number of bigrams: \"+str(total_bigrams))\n",
        "print(\"Bi-grams required for 80% coverage: \"+str(required_bigrams))"
      ],
      "execution_count": null,
      "outputs": [
        {
          "output_type": "stream",
          "text": [
            "Total number of bigrams: 5057939\n",
            "Bi-grams required for 80% coverage: 242884\n"
          ],
          "name": "stdout"
        }
      ]
    },
    {
      "cell_type": "markdown",
      "metadata": {
        "id": "0_WBfdKYKRAe"
      },
      "source": [
        "### 1.3.2.3"
      ]
    },
    {
      "cell_type": "code",
      "metadata": {
        "id": "Ml9GhuqoKURX",
        "outputId": "05b0e6a4-0cad-4cb8-ab70-3c21f5678d95",
        "colab": {
          "base_uri": "https://localhost:8080/",
          "height": 50
        }
      },
      "source": [
        "total_trigrams = fdist_tri.N()\n",
        "freq_values = sorted(fdist_tri.values(), reverse=True)\n",
        "required_trigrams = get_coverage_number(total_trigrams, 0.7, freq_values)\n",
        "print(\"Total number of trigrams: \"+str(total_trigrams))\n",
        "print(\"Tri-grams required for 70% coverage: \"+str(required_trigrams))"
      ],
      "execution_count": null,
      "outputs": [
        {
          "output_type": "stream",
          "text": [
            "Total number of trigrams: 5057938\n",
            "Tri-grams required for 70% coverage: 992668\n"
          ],
          "name": "stdout"
        }
      ]
    },
    {
      "cell_type": "markdown",
      "metadata": {
        "id": "tO-qpp5lK1oI"
      },
      "source": [
        "### 1.3.2.4"
      ]
    },
    {
      "cell_type": "code",
      "metadata": {
        "id": "TVQPsUDCL5s9"
      },
      "source": [
        "# Performing Stemming on text\n",
        "\n",
        "word_tokenize_list = word_tokenize(text)\n",
        "ps = PorterStemmer() \n",
        "stemmed_words = []\n",
        "for w in word_tokenize_list: \n",
        "\tstemmed_words.append(ps.stem(w))"
      ],
      "execution_count": null,
      "outputs": []
    },
    {
      "cell_type": "code",
      "metadata": {
        "id": "oTGspIr8NSYZ"
      },
      "source": [
        "new_uni_grams = ngrams(stemmed_words,1)\n",
        "new_fdist_uni = nltk.FreqDist(new_uni_grams)\n",
        "\n",
        "new_bi_grams = ngrams(stemmed_words,2)\n",
        "new_fdist_bi = nltk.FreqDist(new_bi_grams)\n",
        "\n",
        "new_tri_grams = ngrams(stemmed_words,3)\n",
        "new_fdist_tri = nltk.FreqDist(new_tri_grams)"
      ],
      "execution_count": null,
      "outputs": []
    },
    {
      "cell_type": "code",
      "metadata": {
        "id": "N0p1DVCwNaiu",
        "outputId": "f30c981b-ba29-4de5-86e9-8f03792cfd14",
        "colab": {
          "base_uri": "https://localhost:8080/",
          "height": 91
        }
      },
      "source": [
        "total_unigrams = new_fdist_uni.N()\n",
        "freq_values = sorted(new_fdist_uni.values(), reverse=True)\n",
        "required_unigrams = get_coverage_number(total_unigrams, 0.9, freq_values)\n",
        "display(Markdown(\"### After Stemming\"))\n",
        "print(\"Total number of unigrams: \"+str(total_unigrams))\n",
        "print(\"Uni-grams required for 90% coverage: \"+str(required_unigrams))"
      ],
      "execution_count": null,
      "outputs": [
        {
          "output_type": "display_data",
          "data": {
            "text/markdown": "### After Stemming",
            "text/plain": [
              "<IPython.core.display.Markdown object>"
            ]
          },
          "metadata": {
            "tags": []
          }
        },
        {
          "output_type": "stream",
          "text": [
            "Total number of unigrams: 5057940\n",
            "Uni-grams required for 90% coverage: 4270\n"
          ],
          "name": "stdout"
        }
      ]
    },
    {
      "cell_type": "code",
      "metadata": {
        "id": "Iid0jZmmNusH",
        "outputId": "5ec8fc95-67a3-4305-e91e-36891bb66f0a",
        "colab": {
          "base_uri": "https://localhost:8080/",
          "height": 91
        }
      },
      "source": [
        "total_bigrams = new_fdist_bi.N()\n",
        "freq_values = sorted(new_fdist_bi.values(), reverse=True)\n",
        "required_bigrams = get_coverage_number(total_bigrams, 0.8, freq_values)\n",
        "display(Markdown(\"### After Stemming\"))\n",
        "print(\"Total number of bigrams: \"+str(total_bigrams))\n",
        "print(\"Bi-grams required for 80% coverage: \"+str(required_bigrams))"
      ],
      "execution_count": null,
      "outputs": [
        {
          "output_type": "display_data",
          "data": {
            "text/markdown": "### After Stemming",
            "text/plain": [
              "<IPython.core.display.Markdown object>"
            ]
          },
          "metadata": {
            "tags": []
          }
        },
        {
          "output_type": "stream",
          "text": [
            "Total number of bigrams: 5057939\n",
            "Bi-grams required for 80% coverage: 160317\n"
          ],
          "name": "stdout"
        }
      ]
    },
    {
      "cell_type": "code",
      "metadata": {
        "id": "XVhT1qTyOGPR",
        "outputId": "2f53bf2a-8b9a-4022-bf5d-89a4b1ac4105",
        "colab": {
          "base_uri": "https://localhost:8080/",
          "height": 91
        }
      },
      "source": [
        "total_trigrams = new_fdist_tri.N()\n",
        "freq_values = sorted(new_fdist_tri.values(), reverse=True)\n",
        "required_trigrams = get_coverage_number(total_trigrams, 0.7, freq_values)\n",
        "display(Markdown(\"### After Stemming\"))\n",
        "print(\"Total number of trigrams: \"+str(total_trigrams))\n",
        "print(\"Tri-grams required for 70% coverage: \"+str(required_trigrams))"
      ],
      "execution_count": null,
      "outputs": [
        {
          "output_type": "display_data",
          "data": {
            "text/markdown": "### After Stemming",
            "text/plain": [
              "<IPython.core.display.Markdown object>"
            ]
          },
          "metadata": {
            "tags": []
          }
        },
        {
          "output_type": "stream",
          "text": [
            "Total number of trigrams: 5057938\n",
            "Tri-grams required for 70% coverage: 884495\n"
          ],
          "name": "stdout"
        }
      ]
    },
    {
      "cell_type": "markdown",
      "metadata": {
        "id": "hUw8Sj0rV-tc"
      },
      "source": [
        "## 1.3.3 Writing some of basic codes"
      ]
    },
    {
      "cell_type": "markdown",
      "metadata": {
        "id": "cObiN1Lj4mKO"
      },
      "source": [
        "### 1.3.3.1 Heuristics for sentence segmentation and word tokenization"
      ]
    },
    {
      "cell_type": "code",
      "metadata": {
        "id": "7EoBszCJ4pH0"
      },
      "source": [
        "# implementing discussed heuristics in the class for sentence segmentation and word tokenization\n",
        "\n",
        "abbreviations = \"Mr mr Mrs mrs Ms ms Dr dr Prof prof Mt mt Resp resp vs Fig fig Figs figs Jr jr Ph.D e.g E.g B.Tech M.Tech B.Sc M.Sc\".split()\n",
        "\n",
        "sentences_with_heuristics = []\n",
        "words_with_heuristics = []\n",
        "\n",
        "token_list = text.split()\n",
        "token_list_length  = len(token_list)\n",
        "\n",
        "current_sentence = []\n",
        "i=0\n",
        "for token in token_list:\n",
        "  if token != \"\":\n",
        "    current_sentence.append(token)\n",
        "    if token[-1] == '.':\n",
        "      if token[:-1] not in abbreviations:\n",
        "        sentences_with_heuristics.append(' '.join(current_sentence))\n",
        "        current_sentence = []\n",
        "    if token[-1] == '!' or token[-1] == '?':\n",
        "      if i+1 < token_list_length:\n",
        "        if token_list[i+1][0].isupper():\n",
        "          sentences_with_heuristics.append(current_sentence)\n",
        "          current_sentence = []\n",
        "      else:\n",
        "        sentences_with_heuristics.append(' '.join(current_sentence))\n",
        "        current_sentence = []\n",
        "\n",
        "    if token[-1] == '.':\n",
        "      if token[:-1] in abbreviations:\n",
        "        words_with_heuristics.append(token)\n",
        "    else:\n",
        "      splitted_word = re.findall(r\"[a-zA-Z\\-]+|[^\\s\\w\\-]|[_]\", token)\n",
        "      for split in splitted_word:\n",
        "        words_with_heuristics.append(split)\n",
        "  i+=1"
      ],
      "execution_count": null,
      "outputs": []
    },
    {
      "cell_type": "code",
      "metadata": {
        "id": "auztA6LT_rIG",
        "outputId": "efed3977-7154-47e5-b584-0db0dee501d0",
        "colab": {
          "base_uri": "https://localhost:8080/",
          "height": 370
        }
      },
      "source": [
        "# Repeating 1.3.2\n",
        "\n",
        "display(Markdown(\"## Results after implementing heuristics:\"))\n",
        "print(\"\\nNumber of sentences: \"+ str(len(sentences_with_heuristics)))\n",
        "print(\"First 10 sentences are: \")\n",
        "print(sentences_with_heuristics[:10])\n",
        "print(\"\\nNumber of words: \"+ str(len(words_with_heuristics)))\n",
        "print(\"First 10 words are: \")\n",
        "print(words_with_heuristics[:10])\n",
        "\n",
        "uni_grams_hue = ngrams(words_with_heuristics,1)\n",
        "fdist_uni_hue = nltk.FreqDist(uni_grams_hue)\n",
        "total_unigrams = fdist_uni_hue.N()\n",
        "freq_values = sorted(fdist_uni_hue.values(), reverse=True)\n",
        "required_unigrams = get_coverage_number(total_unigrams, 0.9, freq_values)\n",
        "print(\"\\nTotal number of unigrams: \"+str(total_unigrams))\n",
        "print(\"Uni-grams required for 90% coverage: \"+str(required_unigrams))\n",
        "\n",
        "bi_grams_hue = ngrams(words_with_heuristics,2)\n",
        "fdist_bi_hue = nltk.FreqDist(bi_grams_hue)\n",
        "total_bigrams = fdist_bi_hue.N()\n",
        "freq_values = sorted(fdist_bi_hue.values(), reverse=True)\n",
        "required_bigrams = get_coverage_number(total_bigrams, 0.8, freq_values)\n",
        "print(\"\\nTotal number of bigrams: \"+str(total_bigrams))\n",
        "print(\"Bi-grams required for 90% coverage: \"+str(required_bigrams))\n",
        "\n",
        "tri_grams_hue = ngrams(words_with_heuristics,3)\n",
        "fdist_tri_hue = nltk.FreqDist(tri_grams_hue)\n",
        "total_trigrams = fdist_tri_hue.N()\n",
        "freq_values = sorted(fdist_tri_hue.values(), reverse=True)\n",
        "required_trigrams = get_coverage_number(total_trigrams, 0.8, freq_values)\n",
        "print(\"\\nTotal number of trigrams: \"+str(total_trigrams))\n",
        "print(\"Tri-grams required for 90% coverage: \"+str(required_trigrams))"
      ],
      "execution_count": null,
      "outputs": [
        {
          "output_type": "display_data",
          "data": {
            "text/markdown": "## Results after implementing heuristics:",
            "text/plain": [
              "<IPython.core.display.Markdown object>"
            ]
          },
          "metadata": {
            "tags": []
          }
        },
        {
          "output_type": "stream",
          "text": [
            "\n",
            "Number of sentences: 216829\n",
            "First 10 sentences are: \n",
            "['The word \"atom\" was coined by ancient Greek philosophers.', 'However, these ideas were founded in philosophical and theological reasoning rather than evidence and experimentation.', 'As a result, their views on what atoms look like and how they behave were incorrect.', 'They also could not convince everybody, so atomism was but one of a number of competing theories on the nature of matter.', 'It was not until the 19th century that the idea was embraced and refined by scientists, when the blossoming science of chemistry produced discoveries that only the concept of atoms could explain.', 'In the early 1800s, John Dalton used the concept of atoms to explain why elements always react in ratios of small whole numbers (the law of multiple proportions).', 'For instance, there are two types of tin oxide: one is 88.1% tin and 11.9% oxygen and the other is 78.7% tin and 21.3% oxygen (tin(II) oxide and tin dioxide respectively).', 'This means that 100g of tin will combine either with 13.5g or 27g of oxygen.', '13.5 and 27 form a ratio of 1:2, a ratio of small whole numbers.', 'This common pattern in chemistry suggested to Dalton that elements react in whole number multiples of discrete units—in other words, atoms.']\n",
            "\n",
            "Number of words: 4496840\n",
            "First 10 words are: \n",
            "['The', 'word', '\"', 'atom', '\"', 'was', 'coined', 'by', 'ancient', 'Greek']\n",
            "\n",
            "Total number of unigrams: 4496840\n",
            "Uni-grams required for 90% coverage: 6089\n",
            "\n",
            "Total number of bigrams: 4496839\n",
            "Bi-grams required for 90% coverage: 202020\n",
            "\n",
            "Total number of trigrams: 4496838\n",
            "Tri-grams required for 90% coverage: 1298015\n"
          ],
          "name": "stdout"
        }
      ]
    },
    {
      "cell_type": "code",
      "metadata": {
        "id": "QBXFX3qqGwuX"
      },
      "source": [
        "# Performing Stemming on text\n",
        "\n",
        "word_tokenize_list_new = words_with_heuristics\n",
        "ps = PorterStemmer() \n",
        "stemmed_words = []\n",
        "for w in word_tokenize_list_new: \n",
        "\tstemmed_words.append(ps.stem(w))"
      ],
      "execution_count": null,
      "outputs": []
    },
    {
      "cell_type": "code",
      "metadata": {
        "id": "i4iGcPjyHmfM"
      },
      "source": [
        "new_uni_grams = ngrams(stemmed_words,1)\n",
        "new_fdist_uni = nltk.FreqDist(new_uni_grams)\n",
        "\n",
        "new_bi_grams = ngrams(stemmed_words,2)\n",
        "new_fdist_bi = nltk.FreqDist(new_bi_grams)\n",
        "\n",
        "new_tri_grams = ngrams(stemmed_words,3)\n",
        "new_fdist_tri = nltk.FreqDist(new_tri_grams)"
      ],
      "execution_count": null,
      "outputs": []
    },
    {
      "cell_type": "code",
      "metadata": {
        "id": "vUI6wh96Hsql",
        "outputId": "dad953ec-c5fa-4649-d94a-ad69010768cc",
        "colab": {
          "base_uri": "https://localhost:8080/",
          "height": 91
        }
      },
      "source": [
        "total_unigrams = new_fdist_uni.N()\n",
        "freq_values = sorted(new_fdist_uni.values(), reverse=True)\n",
        "required_unigrams = get_coverage_number(total_unigrams, 0.9, freq_values)\n",
        "display(Markdown(\"### After Stemming\"))\n",
        "print(\"Total number of unigrams: \"+str(total_unigrams))\n",
        "print(\"Uni-grams required for 90% coverage: \"+str(required_unigrams))"
      ],
      "execution_count": null,
      "outputs": [
        {
          "output_type": "display_data",
          "data": {
            "text/markdown": "### After Stemming",
            "text/plain": [
              "<IPython.core.display.Markdown object>"
            ]
          },
          "metadata": {
            "tags": []
          }
        },
        {
          "output_type": "stream",
          "text": [
            "Total number of unigrams: 4496840\n",
            "Uni-grams required for 90% coverage: 2571\n"
          ],
          "name": "stdout"
        }
      ]
    },
    {
      "cell_type": "code",
      "metadata": {
        "id": "tVNOT99bH3RN",
        "outputId": "4ae5f6fe-dd06-4de7-a0c7-29141c070a40",
        "colab": {
          "base_uri": "https://localhost:8080/",
          "height": 91
        }
      },
      "source": [
        "total_bigrams = new_fdist_bi.N()\n",
        "freq_values = sorted(new_fdist_bi.values(), reverse=True)\n",
        "required_bigrams = get_coverage_number(total_bigrams, 0.8, freq_values)\n",
        "display(Markdown(\"### After Stemming\"))\n",
        "print(\"Total number of bigrams: \"+str(total_bigrams))\n",
        "print(\"Bi-grams required for 80% coverage: \"+str(required_bigrams))"
      ],
      "execution_count": null,
      "outputs": [
        {
          "output_type": "display_data",
          "data": {
            "text/markdown": "### After Stemming",
            "text/plain": [
              "<IPython.core.display.Markdown object>"
            ]
          },
          "metadata": {
            "tags": []
          }
        },
        {
          "output_type": "stream",
          "text": [
            "Total number of bigrams: 4496839\n",
            "Bi-grams required for 80% coverage: 123094\n"
          ],
          "name": "stdout"
        }
      ]
    },
    {
      "cell_type": "code",
      "metadata": {
        "id": "9wLpwilsH93g",
        "outputId": "99818e4f-f936-42ab-d3ac-0b5d0816236d",
        "colab": {
          "base_uri": "https://localhost:8080/",
          "height": 91
        }
      },
      "source": [
        "total_trigrams = new_fdist_tri.N()\n",
        "freq_values = sorted(new_fdist_tri.values(), reverse=True)\n",
        "required_trigrams = get_coverage_number(total_trigrams, 0.7, freq_values)\n",
        "display(Markdown(\"### After Stemming\"))\n",
        "print(\"Total number of trigrams: \"+str(total_trigrams))\n",
        "print(\"Tri-grams required for 70% coverage: \"+str(required_trigrams))"
      ],
      "execution_count": null,
      "outputs": [
        {
          "output_type": "display_data",
          "data": {
            "text/markdown": "### After Stemming",
            "text/plain": [
              "<IPython.core.display.Markdown object>"
            ]
          },
          "metadata": {
            "tags": []
          }
        },
        {
          "output_type": "stream",
          "text": [
            "Total number of trigrams: 4496838\n",
            "Tri-grams required for 70% coverage: 740085\n"
          ],
          "name": "stdout"
        }
      ]
    },
    {
      "cell_type": "markdown",
      "metadata": {
        "id": "v_uC1NAKIATX"
      },
      "source": [
        "### 1.3.3.2 Likelihood Ratios"
      ]
    },
    {
      "cell_type": "code",
      "metadata": {
        "id": "qyXJCY6WL7ak"
      },
      "source": [
        "# to calulate the the terms log L(k,n,x)\n",
        "def get_log_term_L(k, n, x):\n",
        "  return k*np.log(x) + (n-k)*np.log(1-x)\n",
        "\n",
        "# to get log(lambda)\n",
        "def get_likelihood_ratio(c1, c2, c12, N):\n",
        "  p = c2/N\n",
        "  p1 = c12/c1\n",
        "  p2 = (c2-c12)/(N-c1)\n",
        "\n",
        "  val = get_log_term_L(c12,c1,p) + get_log_term_L(c2-c12,N-c1,p) - get_log_term_L(c12,c1,p1) - get_log_term_L(c2-c12,N-c1,p2)\n",
        "  if np.isnan(val):\n",
        "    return 0\n",
        "  return val"
      ],
      "execution_count": null,
      "outputs": []
    },
    {
      "cell_type": "code",
      "metadata": {
        "id": "gHR-oihHO5Lc",
        "outputId": "e6b79298-1376-4575-c0d6-4e53f3192e77",
        "colab": {
          "base_uri": "https://localhost:8080/",
          "height": 84
        }
      },
      "source": [
        "likelihood_ratios = {}\n",
        "for bigram,freq in fdist_bi.items():\n",
        "  word1 = bigram[0]\n",
        "  word2 = bigram[1]\n",
        "  c12 = freq\n",
        "  N = fdist_bi.N()\n",
        "  c1 = fdist_uni[(word1,)]\n",
        "  c2 = fdist_uni[(word2,)]\n",
        "  likelihood_ratios[bigram] = -2*get_likelihood_ratio(c1,c2,c12,N)"
      ],
      "execution_count": null,
      "outputs": [
        {
          "output_type": "stream",
          "text": [
            "/usr/local/lib/python3.6/dist-packages/ipykernel_launcher.py:3: RuntimeWarning: divide by zero encountered in log\n",
            "  This is separate from the ipykernel package so we can avoid doing imports until\n",
            "/usr/local/lib/python3.6/dist-packages/ipykernel_launcher.py:3: RuntimeWarning: invalid value encountered in double_scalars\n",
            "  This is separate from the ipykernel package so we can avoid doing imports until\n"
          ],
          "name": "stderr"
        }
      ]
    },
    {
      "cell_type": "code",
      "metadata": {
        "id": "uUym8stzQhtV",
        "outputId": "d3a8727c-55ab-4906-fe74-238a6e544f8d",
        "colab": {
          "base_uri": "https://localhost:8080/",
          "height": 101
        }
      },
      "source": [
        "display(Markdown(\"## 100 words with highest likelihood ratios\"))\n",
        "print(sorted(likelihood_ratios.items(),key= lambda x:x[1],reverse=True)[:100])"
      ],
      "execution_count": null,
      "outputs": [
        {
          "output_type": "display_data",
          "data": {
            "text/markdown": "## 100 words with highest likelihood ratios",
            "text/plain": [
              "<IPython.core.display.Markdown object>"
            ]
          },
          "metadata": {
            "tags": []
          }
        },
        {
          "output_type": "stream",
          "text": [
            "[(('.', 'The'), 333936.8996407627), (('median', 'income'), 115956.15171755284), (('United', 'States'), 110013.2887814854), (('every', '100'), 99338.46873299748), (('For', 'every'), 96304.95461700024), (('there', 'were'), 95542.04330000875), (('of', 'the'), 95200.56195354159), (('65', 'years'), 95053.39687368485), (('or', 'older'), 91256.22878809928), (('%', 'from'), 90929.23565034487), (('income', 'for'), 90548.86368263437), (('100', 'females'), 89850.56978701243), ((',', 'and'), 87828.82690197392), (('.', 'In'), 87398.18608974383), (('%', 'had'), 77531.9256763526), (('There', 'were'), 76947.61648335797), (('square', 'mile'), 71554.7893528475), (('size', 'was'), 70794.79810442438), (('in', 'the'), 70007.12665836932), (('housing', 'units'), 67742.5444012069), (('.', 'There'), 67401.62279065733), (('married', 'couples'), 66819.23093711394), (('racial', 'makeup'), 65212.425912015824), (('was', '$'), 65197.22013117431), (('husband', 'present'), 59807.999748751376), (('per', 'square'), 59543.46801289651), (('families', 'residing'), 58184.250658728524), (('female', 'householder'), 58104.56803485639), (('the', 'city'), 57790.216604821486), (('age', 'or'), 56845.358773941116), (('the', 'township'), 56676.5022267605), (('no', 'husband'), 55992.34292988682), (('made', 'up'), 55418.69434787309), (('Census', 'Bureau'), 53989.45888272042), (('poverty', 'line'), 53764.05670602535), (('older', '.'), 53595.738590707304), (('alone', 'who'), 52365.29871915592), (('someone', 'living'), 51952.81154061158), (('couples', 'living'), 51934.64786657988), (('living', 'alone'), 51494.559771429645), (('.', 'For'), 51403.10838169788), (('mile', '('), 51116.08526366262), (('householder', 'with'), 50790.06316786684), (('The', 'median'), 50656.3389786436), (('living', 'together'), 49722.97386317083), (('%', 'of'), 48862.4068660154), (('children', 'under'), 48602.496337971126), (('units', 'at'), 47714.196830227505), (('any', 'race'), 47057.937205523114), (('household', 'size'), 46969.77472435727), (('had', 'a'), 46182.74146734574), (('had', 'someone'), 46073.28282961654), (('family', 'size'), 45437.90885318266), (('total', 'area'), 45315.24496113905), (('under', 'the'), 44890.239396027755), (('males', '.'), 44445.638311139075), (('capita', 'income'), 42765.01721325386), (('from', '45'), 42658.05978725902), (('with', 'no'), 42538.06531381085), (('average', 'household'), 42436.42103942302), (('had', 'children'), 42274.88137981555), (('%', 'were'), 41970.229967474006), (('spread', 'out'), 41936.20821191238), (('all', 'households'), 41356.561991579074), (('from', '25'), 41012.20536198084), (('average', 'density'), 40992.71544484985), (('average', 'family'), 40871.75909971958), (('the', 'population'), 40830.62942463788), (('versus', '$'), 39530.44355616806), (('were', 'non-families'), 39310.597989463015), (('more', 'races'), 39230.028546978574), (('Native', 'American'), 39066.69083182204), (('The', 'population'), 38865.750748205406), ((')', '.'), 38450.650162582984), (('The', 'racial'), 38365.57078581529), (('Males', 'had'), 38161.344451142184), (('with', 'them'), 37907.045087217586), (('years', 'of'), 37721.69937098329), (('population', 'density'), 37657.640346923115), (('of', '18'), 37619.76773872704), (('an', 'average'), 36490.68039248497), (('were', 'married'), 36481.51096552719), (('States', 'Census'), 36341.72804799404), (('.', 'As'), 36259.67223815007), (('residing', 'in'), 35901.564227197785), (('of', 'those'), 35772.3832871425), (('age', '18'), 35094.99872789724), (('45', 'to'), 34807.52499610337), (('or', 'Latino'), 34702.08023224482), (('Hispanic', 'or'), 34514.51448996313), (('to', '44'), 34345.58120575416), (('makeup', 'of'), 33913.69251778955), (('25', 'to'), 33200.01235793822), (('%', 'White'), 33113.790539097135), ((',', 'there'), 32758.25742697838), (('at', 'an'), 32353.80938548458), (('to', '64'), 32324.84493094849), (('18', 'living'), 32194.258747978398), (('for', 'a'), 31783.642128380015), (('were', 'made'), 31713.601802911435)]\n"
          ],
          "name": "stdout"
        }
      ]
    },
    {
      "cell_type": "markdown",
      "metadata": {
        "id": "OBz4Jk2fWOHe"
      },
      "source": [
        "## 1.3.4 Morphological parsing"
      ]
    },
    {
      "cell_type": "code",
      "metadata": {
        "id": "8aN6O7OSWvFa"
      },
      "source": [
        "word_tokenize_list = word_tokenize(text)\n",
        "freq_dist_ordered_list = FreqDist(word_tokenize_list).most_common()\n",
        "most_frequent_words = freq_dist_ordered_list[:100]\n",
        "least_frequent_words = freq_dist_ordered_list[-100:]"
      ],
      "execution_count": null,
      "outputs": []
    },
    {
      "cell_type": "code",
      "metadata": {
        "id": "0k0Umt09ZOv5"
      },
      "source": [
        "random.seed(13)\n",
        "random_5_most_frequent = random.sample(most_frequent_words, 5)\n",
        "random_5_least_frequent = random.sample(least_frequent_words, 5)"
      ],
      "execution_count": null,
      "outputs": []
    },
    {
      "cell_type": "code",
      "metadata": {
        "id": "rvDs5K3YdU1f",
        "outputId": "3a2e9d95-b9dd-48b8-c298-89439b5bf299",
        "colab": {
          "base_uri": "https://localhost:8080/",
          "height": 382
        }
      },
      "source": [
        "most_frequent_morphemes = []\n",
        "for w in random_5_most_frequent:\n",
        "  w = Word(w[0], language=\"en\")\n",
        "  most_frequent_morphemes.append(w.morphemes)\n",
        "least_frequent_morphemes = []\n",
        "for w in random_5_least_frequent:\n",
        "  w = Word(w[0], language=\"en\")\n",
        "  least_frequent_morphemes.append(w.morphemes)\n",
        "\n",
        "text_most_frequent = [i[0] for i in random_5_most_frequent]\n",
        "text_least_frequent = [i[0] for i in random_5_least_frequent]\n",
        "pos_tag_most_frequent = pos_tag(text_most_frequent)\n",
        "pos_tag_least_frequent = pos_tag(text_least_frequent)\n",
        "\n",
        "display(Markdown(\"## Morphological Analysis\"))\n",
        "display(Markdown(\"### For random 5 words from 100 most frequent\"))\n",
        "display(Markdown(\"### Word --> morphemes + POS Tag\"))\n",
        "for index in range(5):\n",
        "  print(random_5_most_frequent[index][0] + \" --> \" + str(most_frequent_morphemes[index]) + \" + \" + pos_tag_most_frequent[index][1])\n",
        "display(Markdown(\"### For random 5 words from 100 least frequent\"))\n",
        "display(Markdown(\"### Word --> morphemes + POS Tag\"))\n",
        "for index in range(5):\n",
        "  print(random_5_least_frequent[index][0] + \" --> \" + str(least_frequent_morphemes[index]) + \" + \" + pos_tag_least_frequent[index][1])"
      ],
      "execution_count": null,
      "outputs": [
        {
          "output_type": "display_data",
          "data": {
            "text/markdown": "## Morphological Analysis",
            "text/plain": [
              "<IPython.core.display.Markdown object>"
            ]
          },
          "metadata": {
            "tags": []
          }
        },
        {
          "output_type": "display_data",
          "data": {
            "text/markdown": "### For random 5 words from 100 most frequent",
            "text/plain": [
              "<IPython.core.display.Markdown object>"
            ]
          },
          "metadata": {
            "tags": []
          }
        },
        {
          "output_type": "display_data",
          "data": {
            "text/markdown": "### Word --> morphemes + POS Tag",
            "text/plain": [
              "<IPython.core.display.Markdown object>"
            ]
          },
          "metadata": {
            "tags": []
          }
        },
        {
          "output_type": "stream",
          "text": [
            "city --> ['city'] + NN\n",
            "median --> ['media', 'n'] + JJ\n",
            "Township --> ['Town', 'ship'] + NNP\n",
            "had --> ['had'] + VBD\n",
            "first --> ['first'] + JJ\n"
          ],
          "name": "stdout"
        },
        {
          "output_type": "display_data",
          "data": {
            "text/markdown": "### For random 5 words from 100 least frequent",
            "text/plain": [
              "<IPython.core.display.Markdown object>"
            ]
          },
          "metadata": {
            "tags": []
          }
        },
        {
          "output_type": "display_data",
          "data": {
            "text/markdown": "### Word --> morphemes + POS Tag",
            "text/plain": [
              "<IPython.core.display.Markdown object>"
            ]
          },
          "metadata": {
            "tags": []
          }
        },
        {
          "output_type": "stream",
          "text": [
            "immunize --> ['imm', 'un', 'ize'] + VB\n",
            "handbills --> ['hand', 'bill', 's'] + NNS\n",
            "Long-term --> ['Long', '-', 'term'] + JJ\n",
            "Pension --> ['Pen', 's', 'ion'] + NNP\n",
            "Purrington --> ['Pur', 'ring', 'ton'] + NNP\n"
          ],
          "name": "stdout"
        }
      ]
    },
    {
      "cell_type": "markdown",
      "metadata": {
        "id": "aWbzO6UiujuQ"
      },
      "source": [
        "## 1.3.5 Sub-word tokenization(BPE)"
      ]
    },
    {
      "cell_type": "code",
      "metadata": {
        "id": "vQxRi4qy9wvX"
      },
      "source": [
        "# Defining functions for BPE\n",
        "\n",
        "def get_vocab(freq_dist):\n",
        "  vocab = {}\n",
        "  for key, value in freq_dist.items():\n",
        "    if(key[0].isalpha()):\n",
        "      word = \" \".join(key[0]) + \" </w>\"\n",
        "      vocab[word] = value\n",
        "  return vocab\n",
        "\n",
        "def get_stats(vocab):\n",
        "    pairs = collections.defaultdict(int)\n",
        "    for word, freq in vocab.items():\n",
        "      symbols = word.split()\n",
        "      for i in range(len(symbols)-1):\n",
        "        pairs[symbols[i],symbols[i+1]] += freq\n",
        "    return pairs\n",
        "\n",
        "def merge_vocab(pair, v_in):\n",
        "    v_out = {}\n",
        "    bigram = re.escape(' '.join(pair))\n",
        "    p = re.compile(r'(?<!\\S)' + bigram + r'(?!\\S)')\n",
        "    for word in v_in:\n",
        "      w_out = p.sub(''.join(pair), word)\n",
        "      v_out[w_out] = v_in[word]\n",
        "    return v_out\n",
        "\n",
        "def get_tokens(pair, v_in): \n",
        "  v_out = []\n",
        "  bigram = re.escape(' '.join(pair))\n",
        "  p = re.compile(r'(?<!\\S)' + bigram + r'(?!\\S)')\n",
        " \n",
        "  for word in v_in:\n",
        "    w_out = p.sub(''.join(pair), word)\n",
        "    v_out.append(w_out)\n",
        "\n",
        "  return v_out"
      ],
      "execution_count": null,
      "outputs": []
    },
    {
      "cell_type": "code",
      "metadata": {
        "id": "rhK4zNbBEPzY"
      },
      "source": [
        "# Leaning merges\n",
        "\n",
        "fdist_uni_dict = dict(fdist_uni)\n",
        "vocab = dict(list(get_vocab(fdist_uni_dict).items())[:3000])\n",
        "\n",
        "learned_merges = []\n",
        "num_merges = 4500\n",
        "\n",
        "for i in range(num_merges):\n",
        "    pairs = get_stats(vocab)\n",
        "    if not pairs:\n",
        "      print(\"I broke at \" + str(i))\n",
        "      break\n",
        "    best = max(pairs, key=pairs.get)\n",
        "    learned_merges.append((best,pairs[best]))\n",
        "    vocab = merge_vocab(best, vocab)"
      ],
      "execution_count": null,
      "outputs": []
    },
    {
      "cell_type": "code",
      "metadata": {
        "id": "UjoGi7-VE_SJ",
        "outputId": "1c7e3c7e-4192-4c90-fa5d-77f2f5ddbca3",
        "colab": {
          "base_uri": "https://localhost:8080/",
          "height": 151
        }
      },
      "source": [
        "sorted_learned_merges = sorted(learned_merges, key = lambda x: x[1])\n",
        "display(Markdown(\"### 50 most frequent tokens\"))\n",
        "print(sorted_learned_merges[-50:])\n",
        "display(Markdown(\"### 50 least frequent tokens\"))\n",
        "print(sorted_learned_merges[:50])"
      ],
      "execution_count": null,
      "outputs": [
        {
          "output_type": "display_data",
          "data": {
            "text/markdown": "### 50 most frequent tokens",
            "text/plain": [
              "<IPython.core.display.Markdown object>"
            ]
          },
          "metadata": {
            "tags": []
          }
        },
        {
          "output_type": "stream",
          "text": [
            "[(('a', 'n</w>'), 32939), (('h', 'a'), 32955), (('o', 'n</w>'), 35217), (('g', '</w>'), 35360), (('h', '</w>'), 35764), (('f', 'or</w>'), 36913), (('w', 'i'), 37960), (('e', 'n'), 38530), (('i', 'c'), 38795), (('th', '</w>'), 40202), (('a', 't</w>'), 40793), (('r', 'e'), 41529), (('a', 'ge</w>'), 46054), (('o', 'u'), 46801), (('a', 't'), 46827), (('m', '</w>'), 48060), (('g', 'e</w>'), 50105), (('r', 'o'), 55490), (('w', 'ere</w>'), 57475), (('e', 'd</w>'), 57657), (('a', 'l'), 58693), (('Th', 'e</w>'), 60898), (('i', 's</w>'), 63574), (('i', 't'), 64055), (('a', 'r'), 72088), (('i', 'n'), 74706), (('or', '</w>'), 75788), (('w', 'as</w>'), 78225), (('T', 'h'), 78631), (('t', 'o</w>'), 81790), (('er', 'e</w>'), 85152), (('er', '</w>'), 89945), (('i', 'n</w>'), 92937), (('a', '</w>'), 96057), (('o', '</w>'), 109303), (('o', 'r'), 116065), (('a', 's</w>'), 116073), (('y', '</w>'), 121554), (('an', 'd</w>'), 138191), (('t', '</w>'), 145336), (('a', 'n'), 167203), (('o', 'f</w>'), 192358), (('f', '</w>'), 197420), (('n', '</w>'), 209090), (('e', 'r'), 240473), (('d', '</w>'), 255048), (('th', 'e</w>'), 269127), (('s', '</w>'), 277620), (('t', 'h'), 411383), (('e', '</w>'), 653793)]\n"
          ],
          "name": "stdout"
        },
        {
          "output_type": "display_data",
          "data": {
            "text/markdown": "### 50 least frequent tokens",
            "text/plain": [
              "<IPython.core.display.Markdown object>"
            ]
          },
          "metadata": {
            "tags": []
          }
        },
        {
          "output_type": "stream",
          "text": [
            "[(('hy', 'po'), 10), (('hypo', 'the'), 10), (('hypothe', 'sized</w>'), 10), (('quanti', 'zation</w>'), 10), (('S', 'ch'), 10), (('Sch', 'r'), 10), (('Schr', 'ö'), 10), (('Schrö', 'ding'), 10), (('Schröding', 'er</w>'), 10), (('A', 'st'), 10), (('Ast', 'on</w>'), 10), (('nucle', 'ons</w>'), 10), (('bo', 's'), 10), (('bos', 'ons</w>'), 10), (('Pau', 'li'), 10), (('Pauli', '</w>'), 10), (('ion', 'ic</w>'), 10), (('P', 'lan'), 10), (('Plan', 'ck</w>'), 10), (('spontan', 'e'), 10), (('spontane', 'ously</w>'), 10), (('bot', 'ani'), 11), (('botani', 'st</w>'), 11), (('po', 'st'), 11), (('post', 'ulated</w>'), 11), (('G', 'ei'), 11), (('Gei', 'ger</w>'), 11), (('diff', 'use</w>'), 11), (('N', 'i'), 11), (('Ni', 'els</w>'), 11), (('or', 'bits</w>'), 11), (('ha', 'd'), 11), (('e', 'jec'), 11), (('col', 'li'), 11), (('colli', 'sion</w>'), 11), (('equival', 'ence</w>'), 11), (('nucli', 'des</w>'), 11), (('de', 'vi'), 11), (('scan', 'ning</w>'), 11), (('ma', 'cro'), 11), (('macro', 'scop'), 11), (('macroscop', 'ic</w>'), 11), (('re', 'son'), 11), (('reson', 'ance</w>'), 11), (('in', 'fin'), 11), (('infin', 'ity</w>'), 11), (('groun', 'ded</w>'), 11), (('ion', 'ization</w>'), 11), (('S', 'pe'), 11), (('coh', 'er'), 11)]\n"
          ],
          "name": "stdout"
        }
      ]
    },
    {
      "cell_type": "code",
      "metadata": {
        "id": "FJJr7PLpIfzu",
        "outputId": "31e2873a-359d-4398-a9af-84443b4eae1b",
        "colab": {
          "base_uri": "https://localhost:8080/",
          "height": 232
        }
      },
      "source": [
        "# Tokenization for 10 unknown words\n",
        "unknown_words = ['abstruse', 'bilk', 'enervate', 'accomodate', 'multifarious', 'cajole', 'reprobate', 'swarthy', 'covet', 'bashful']\n",
        "\n",
        "unknown_words_list = [ ' '.join(w)+\" </w>\" for w in unknown_words]\n",
        "for lm in learned_merges:\n",
        "  unknown_words_list = get_tokens(lm[0], unknown_words_list)\n",
        "\n",
        "display(Markdown(\"## Tokenization of unknown words\"))\n",
        "for i in range(10):\n",
        "  print(unknown_words[i] + ' --> ' + str(unknown_words_list[i][:-4].split()))"
      ],
      "execution_count": null,
      "outputs": [
        {
          "output_type": "display_data",
          "data": {
            "text/markdown": "## Tokenization of unknown words",
            "text/plain": [
              "<IPython.core.display.Markdown object>"
            ]
          },
          "metadata": {
            "tags": []
          }
        },
        {
          "output_type": "stream",
          "text": [
            "abstruse --> ['ab', 'str', 'use']\n",
            "bilk --> ['b', 'il', 'k']\n",
            "enervate --> ['ener', 'v', 'ate']\n",
            "accomodate --> ['ac', 'com', 'od', 'ate']\n",
            "multifarious --> ['multi', 'f', 'ar', 'i', 'ous']\n",
            "cajole --> ['ca', 'j', 'ole']\n",
            "reprobate --> ['re', 'prob', 'ate']\n",
            "swarthy --> ['s', 'w', 'ar', 'th', 'y']\n",
            "covet --> ['co', 've', 't']\n",
            "bashful --> ['b', 'a', 'sh', 'ful']\n"
          ],
          "name": "stdout"
        }
      ]
    },
    {
      "cell_type": "code",
      "metadata": {
        "id": "jYoXSIreeueN",
        "outputId": "ac1c1e33-8305-4929-c307-b4195aced71f",
        "colab": {
          "base_uri": "https://localhost:8080/",
          "height": 578
        }
      },
      "source": [
        "display(Markdown(\"## Comparison of tokens with morphemes\"))\n",
        "\n",
        "unknown_words_list = [ ' '.join(w[0])+\" </w>\" for w in random_5_most_frequent]\n",
        "for lm in learned_merges:\n",
        "  unknown_words_list = get_tokens(lm[0], unknown_words_list)\n",
        "\n",
        "display(Markdown(\"### For random 5 words from 100 most frequent\"))\n",
        "print(\"\\nWord\" + \"    -->    \" + \"From Polyglot\" + \"    and    \" + \"From BPE \\n\" )\n",
        "i=0\n",
        "for pair in random_5_most_frequent:\n",
        "  word = pair[0]\n",
        "  morphemes = Word(word, language=\"en\").morphemes\n",
        "  print(word + \"    -->    \" + str(morphemes) + \"    and    \" +str(unknown_words_list[i][:-4].split()) + ' \\n')\n",
        "  i+=1\n",
        "\n",
        "unknown_words_list = [ ' '.join(w[0])+\" </w>\" for w in random_5_least_frequent]\n",
        "for lm in learned_merges:\n",
        "  unknown_words_list = get_tokens(lm[0], unknown_words_list)\n",
        "\n",
        "display(Markdown(\"### For random 5 words from 100 least frequent\"))\n",
        "print(\"\\nWord\" + \"    -->    \" + \"From Polyglot\" + \"    and    \" + \"From BPE \\n\" )\n",
        "i=0\n",
        "for pair in random_5_least_frequent:\n",
        "  word = pair[0]\n",
        "  morphemes = Word(word, language=\"en\").morphemes\n",
        "  print(word + \"    -->    \" + str(morphemes) + \"    and    \" +str(unknown_words_list[i][:-4].split()) + ' \\n')\n",
        "  i+=1"
      ],
      "execution_count": null,
      "outputs": [
        {
          "output_type": "display_data",
          "data": {
            "text/markdown": "## Comparison of tokens with morphemes",
            "text/plain": [
              "<IPython.core.display.Markdown object>"
            ]
          },
          "metadata": {
            "tags": []
          }
        },
        {
          "output_type": "display_data",
          "data": {
            "text/markdown": "### For random 5 words from 100 most frequent",
            "text/plain": [
              "<IPython.core.display.Markdown object>"
            ]
          },
          "metadata": {
            "tags": []
          }
        },
        {
          "output_type": "stream",
          "text": [
            "\n",
            "Word    -->    From Polyglot    and    From BPE \n",
            "\n",
            "city    -->    ['city']    and    ['city'] \n",
            "\n",
            "median    -->    ['media', 'n']    and    ['medi', 'an'] \n",
            "\n",
            "Township    -->    ['Town', 'ship']    and    ['T', 'ow', 'n', 'ship'] \n",
            "\n",
            "had    -->    ['had']    and    ['had'] \n",
            "\n",
            "first    -->    ['first']    and    ['first'] \n",
            "\n"
          ],
          "name": "stdout"
        },
        {
          "output_type": "display_data",
          "data": {
            "text/markdown": "### For random 5 words from 100 least frequent",
            "text/plain": [
              "<IPython.core.display.Markdown object>"
            ]
          },
          "metadata": {
            "tags": []
          }
        },
        {
          "output_type": "stream",
          "text": [
            "\n",
            "Word    -->    From Polyglot    and    From BPE \n",
            "\n",
            "immunize    -->    ['imm', 'un', 'ize']    and    ['imm', 'uni', 'ze'] \n",
            "\n",
            "handbills    -->    ['hand', 'bill', 's']    and    ['hand', 'b', 'il', 'ls'] \n",
            "\n",
            "Long-term    -->    ['Long', '-', 'term']    and    ['Lon', 'g', '-', 'term'] \n",
            "\n",
            "Pension    -->    ['Pen', 's', 'ion']    and    ['P', 'en', 'sion'] \n",
            "\n",
            "Purrington    -->    ['Pur', 'ring', 'ton']    and    ['P', 'ur', 'r', 'ing', 'ton'] \n",
            "\n"
          ],
          "name": "stdout"
        }
      ]
    },
    {
      "cell_type": "markdown",
      "metadata": {
        "id": "V3PLkooSTRHb"
      },
      "source": [
        "# Solutions for Hindi Corpus"
      ]
    },
    {
      "cell_type": "code",
      "metadata": {
        "id": "SHkVsOnwTA_H"
      },
      "source": [
        "# Reading text from given corpus\n",
        "\n",
        "hi_text = open('/content/hi_wiki.txt').read()\n",
        "hi_text = hi_text[0:len(hi_text)//4]"
      ],
      "execution_count": null,
      "outputs": []
    },
    {
      "cell_type": "markdown",
      "metadata": {
        "id": "kIvs2X-Lm6j2"
      },
      "source": [
        "## 1.3.1 Ananlysis using existing NLP tools"
      ]
    },
    {
      "cell_type": "markdown",
      "metadata": {
        "id": "hY732S8Mno4q"
      },
      "source": [
        "### 1.3.1.1"
      ]
    },
    {
      "cell_type": "code",
      "metadata": {
        "id": "KR1fYaNoTHcH",
        "outputId": "e086ac77-04ff-4dbd-a629-d5abc63cdffd",
        "colab": {
          "base_uri": "https://localhost:8080/",
          "height": 232
        }
      },
      "source": [
        "# Sentence segmentation using indicnlp\n",
        "sent_tokenize_list_hi = sentence_tokenize.sentence_split(hi_text, lang='hi')\n",
        "\n",
        "# Word tokenization using indicnlp\n",
        "word_tokenize_list_hi = indic_tokenize.trivial_tokenize(hi_text)\n",
        "\n",
        "display(Markdown(\"## Sentece Segmentation using IndicNLP\"))\n",
        "print(\"Number of sentences: \"+ str(len(sent_tokenize_list_hi)))\n",
        "print(\"First 50 sentences are: \")\n",
        "print(sent_tokenize_list_hi[:50])\n",
        "display(Markdown(\"## Word Tokenization using IndicNLP\"))\n",
        "print(\"Number of words: \"+ str(len(word_tokenize_list_hi)))\n",
        "print(\"First 50 words are: \")\n",
        "print(word_tokenize_list_hi[:50])"
      ],
      "execution_count": null,
      "outputs": [
        {
          "output_type": "display_data",
          "data": {
            "text/markdown": "## Sentece Segmentation using IndicNLP",
            "text/plain": [
              "<IPython.core.display.Markdown object>"
            ]
          },
          "metadata": {
            "tags": []
          }
        },
        {
          "output_type": "stream",
          "text": [
            "Number of sentences: 86882\n",
            "First 50 sentences are: \n",
            "['मास्टर ऑफ़ हेल्थ एडमिनिस्ट्रेशन या मास्टर ऑफ हेल्थकेयर एडमिनिस्ट्रेशन (एमएचए या एम. एच. ए) स्नातकोत्तर (पोस्ट ग्रेजुएशन) की एक पेशेवर डिग्री है जो स्वास्थ्य प्रशासन के क्षेत्र में दी जाती हैं।', 'यह उन छात्रों को प्रदान की जाती हैं जिन्होंने स्वास्थ्य प्रशासन, अस्पताल प्रबंधन एवं अन्य स्वास्थ्य सेवा संगठनों के क्षेत्र में जरूरी ज्ञान और दक्षता हासिल की हैं।', 'इन पाठ्यक्रमो में परिस्थितियों के अनुसार इनके सरंचना में अंतर हो सकता हैं हालांकि व्यवसायी-शिक्षक मॉडल कार्यक्रम आमतौर पर चिकित्सा, स्वास्थ्य व्यवसायों या संबद्ध स्वास्थ्य के कॉलेजों में पाए जाते हैं, कक्षा-आधारित कार्यक्रम व्यवसाय या सार्वजनिक स्वास्थ्य के कॉलेजों में होते हैं।', 'इस पाठ्यक्रम के अध्ययन के दौरान आम तौर पर विद्यार्थियों को जनसंख्या स्वास्थ्य, स्वास्थ्य देखभाल अर्थशास्त्र, स्वास्थ्य नीति, संगठनात्मक व्यवहार, स्वास्थ्य से जुड़े संगठनों के प्रबंधन, स्वास्थ्य विपणन और संचार, मानव संसाधन प्रबंधन, सूचना प्रणाली प्रबंधन के अध्ययन एवं अन्य क्षेत्रों में व्यावहारिक अनुभव की भी आवश्यकता होती है।', 'यह डिग्री प्रोग्राम स्वास्थ्य विषय के स्नातको को प्रबंधन के मुद्दों की विस्तृत एवं गहन समझ और उन्हें वरिष्ठ प्रबंधन भूमिकाओं के लिए तैयार करने के लिए डिज़ाइन किया गया है।', 'यह अमेरिकी, यूरोपीय, ऑस्ट्रेलियाई, भारतीय और श्रीलंकाई (पोस्ट ग्रेजुएट इंस्टीट्यूट ऑफ मेडिसिन- कोलंबो विश्वविद्यालय) विश्वविद्यालयों के द्वारा प्रदान किया जाता हैं।', 'यह डिग्री प्रोग्राम पारंपरिक रूप से स्वास्थ्य प्रशासन के स्थानीय, राज्य और संघीय स्तर पर एवं साथ ही गैर-लाभकारी क्षेत्र पर केंद्रित होता है।', 'एमएचए कार्यक्रमों का उद्देश्य छात्रों को स्वास्थ्य सेवाओं और सिस्टम क्षेत्रों में वरिष्ठ प्रबंधकीय और नियोजन कार्य के लिए जरूरी ज्ञान प्रदान करना है।', 'कार्यक्रम के उद्देश्य उन स्नातकों को विकसित करना है जो सक्षम सामान्य और वित्तीय प्रबंधकों, सक्षम योजनाकारों, सार्वजनिक स्वास्थ्य के बारे में जानकार और स्वास्थ्य देखभाल प्रणालियों के वित्तपोषण, समाज, कानून और नैतिकता के बारे में जानकार हो।', 'इस पाठ्यक्रम के लिए अधिकांश देशों में, आवेदकों को न्यूनतम चार वर्ष की स्नातक से नीचे की डिग्री की आवश्यकता होती है एवं उन्हें स्वास्थ्य प्रणाली में न्यूनतम पेशेवर अनुभव वांछनीय है।', 'यदयपि विभिन्न विश्वविद्यालयों के अपने मापदंड होते है।', 'यद्यपि संयुक्त राज्य में वाणिज्य, सार्वजनिक स्वास्थ्य एवं स्वास्थ्य विज्ञान के कई कॉलेजों में स्वास्थ्य प्रशासन की डिग्री होती हैं, लेकिन उनमे से ही केवल कुछ को ही “कमीशन ओन द अक्रेदिसन ऑफ़ हेल्थकेयर मैनेजमेंट एजुकेशन” (सीएएचएमई) के द्वारा मान्यता दी जाती है।', 'इन मान्यता प्राप्त कार्यक्रमों में आवेदन करने के लिए आवेदकों को चार साल की पूर्वस्नातक की डिग्री होनी चाहिये।', 'कुछ विश्वविद्यालय एएसीएसबी मान्यता, या एमबीए / एचओएम डिग्री कार्यक्रमों के साथ दोहरी एमबीए / एमएचए की डिग्री प्रदान करते हैं, जो कि समवर्ती या क्रमिक रूप से पूरा हो सकते हैं।', 'कुछ एमएचए कार्यक्रमों को नामांकन से पहले पेशेवर अनुभव की आवश्यकता नहीं होती है लेकिन अधिकांश ऐसे पाठ्यक्रमों में कार्य अनुभव की आवश्यकता होती हैं जिसमें इंटर्नशिप या फेलोशिप शामिल हैं।', 'संयुक्त राज्य में हेल्थकेयर एडमिनिस्ट्रेशन स्नातक कार्यक्रम अधिकांशत: सार्वजनिक स्वास्थ्य, व्यवसाय, संबद्ध स्वास्थ्य के विद्यालयों द्वारा संचालित किये जाते हैं एवं आषधियों पाठ्शालाओं के द्वारा काफी कम संचालित किये जाते हैं।', 'ऑस्ट्रेलिया में मास्टर ऑफ़ हेल्थ एडमिनिस्ट्रेशन दो भागों में विभाजित किया जा सकता है जिसमें पहला भाग स्वास्थ्य सेवा प्रबंधन में स्नातक डिप्लोमा और इसी के परिणाम के आधार पर इन डिग्रीधारीयों को कोर्स के दुसरे भाग में जारी रखने की अनुमति दी जाती है जो मास्टर ऑफ हैल्थकेयर एडमिनिस्ट्रेशन की डिग्री में परिणत हो जाती है।', 'भारत में भी मास्टर ऑफ़ हेल्थ एडमिनिस्ट्रेशन पाठ्यक्रम कई विश्वविद्यालयों एवं अस्पतालों द्वारा आयोजित किया जाता हैं।', 'कॉर्पोरेट संस्कृति एवं अत्याधुनिक अस्पतालों के आगमन के चलते भारत मे भी इन पाठ्यक्रमों की जरुरत बढती जा रही हैं।', 'भारत में यह २ वर्षीय पाठ्यक्रम ४ समेस्टर (6 महीने का एक समेस्टर) में बिभाजित होता हैं।', 'इन पाठ्यक्रम में मानव संसाधन (एचआर) से संबंधित समस्याओं को समझने एवं अस्पताल के स्वास्थ्य सेवाओं के बीच समन्वय के लिए इन उम्मीदवारों को विशेष कौशल सीखाया जाता हैं।', 'इस पाठ्यक्रम में दाखिले के लिए एमबीबीएस / बीडीएस / बीवीएससी / बीएससी (नर्सिंग) / बीएचए / बीबीए (एचए) में से कोई भी एक पाठ्यक्रम में न्यूनतम 50% अंक होने चाहिए।', 'पाठ्यक्रम में उम्मीदवारों की चयन प्रक्रिया प्रवेश परीक्षाओं के आधार पर की जाती है।', 'भारत के कुछ प्रमुख अस्पताल जैसे एम्स, देवी अहिल्या इंस्टिट्यूट ऑफ हॉस्पिटल एडमिनिस्ट्रेशन, अपोलो हॉस्पिटल प्रशासन संस्थान, हैदराबाद इत्यादि के द्वारा भी मास्टर ऑफ़ हेल्थ एडमिनिस्ट्रेशन पाठ्यक्रम आयोजित किये जाते हैं।', 'असादुदीन ओवैसी (जन्म 13 मई 1969) भारतीय राजनीतिज्ञ हैं।', 'वे ऑल इंडिया मजलिस-ए-इत्तेहादुल मुस्लिमीन के राष्ट्रीय अध्यक्ष हैं।', 'ओवैसी पहली बार 2004 में हैदराबाद लोकसभा क्षेत्र से सांसद चुने गए थे।', 'उसके बाद वे 2009 और 2014 के आम चुनाव में भी हैदराबाद क्षेत्र से सांसद चुने गए।', '2019 के आम चुनाव में वह अपनी पार्टी ऑल इंडिया मजलिस ए इत्तेहादुल मुस्लिमीन से फिर एक बार हैदराबाद क्षेत्र से उम्मीदवार हैं \\nअसदुद्दीन ओवैसी के पिता सलाहुद्दीन ओवैसी भी एक राजनेता थे।', 'वह दो दशक से भी अधिक तक हैदराबाद के सांसद रहे।', 'असदुद्दीन ओवैसी का जन्म 13 मई 1969 को सुन्नी मुस्लिम परिवार में सुल्तान सलाहुद्दीन ओवैसी और नजमुनेस्सा बेगम के यहाँ हुआ था।', 'वह हैदराबाद के एक राजनीतिक परिवार से आता है।', 'उनके दादा अब्दुल वाघ ओवैसी ने राजनीतिक दल मजलिस-ए-इत्तेहादुल मुस्लिममेन को ऑल इंडिया मजलिस-ए-इत्तेहादुल मुस्लिमीन के रूप में 18 सितंबर 1957 में दोबारा शुरू किया।', 'जेल से रिहा होने के बाद भी वह पार्टी के अध्यक्ष के रूप में कासिम राज्वी का पद संभाला।', 'उनके पिता सुल्तान सलाहुद्दीन 1962 में आंध्र प्रदेश विधान सभा के लिए चुने गए।', '1984 में पहली बार हैदराबाद निर्वाचन क्षेत्र से भारतीय संसद के लिए चुने गए और 2004 तक चुनाव जीते रहे, जब उन्होंने असदुद्दीन के पक्ष में पद छोड़ दिया।', '2008 में उनका निधन हो गया।', 'असदुद्दीन ओवैसी ने हैदराबाद के निजाम कॉलेज (उस्मानिया विश्वविद्यालय) से कला में स्नातक की पढ़ाई पूरी की।', 'उन्होंने 1994 में विज्जी ट्रॉफी में तेज गेंदबाज के रूप में दक्षिण क्षेत्र अंतर-विश्वविद्यालय अंडर -25 के क्रिकेट टीम का प्रतिनिधित्व किया और बाद में दक्षिण क्षेत्र विश्वविद्यालय टीम में चुना गया।', 'वह पेशे से एक बैरिस्टर हैं और लंदन के लिंकन इन में अध्ययन करते हैं।', 'उनके भाई अकबरुद्दीन ओवैसी तेलंगाना विधान सभा के सदस्य हैं और इसमें पार्टी का नेतृत्व कर रहे हैं।', 'उनका सबसे छोटा भाई बुरहानुद्दीन ओवैसी इटैमाद के संपादक हैं।', 'ओवैसी की शादी फ़रहीन ओवैसी से हुई है।', 'दंपति के छह बच्चे हैं जिनमें एक बेटा, सुल्तान uddin ओवैसी (2010 का जन्म) और पांच बेटियां शामिल हैं।', 'वह हैदराबाद के शास्त्रीपुरम, मेलर्देवपल्ली में रहते हैं।', 'उनकी सबसे बड़ी बेटी कुदसिया ओवैसी की 24 मार्च 2018 को नवाब शाह आलम खान (पैतृक) और डॉ. मोइनुद्दीन खान सांडोज़ाई (मातृक्षीय पक्ष) के पोता बरकत आलम खान से सगाई हुई थी।', 'उनकी बेटियों में से एक चिकित्सक डॉ मज़हर अली खान के बेटे से सगाई हुई है, जो सियासत डेली के संपादक जहिद अली खान के चचेरे भाई हैं।', 'वह उर्दू / हिंदी और अंग्रेजी में निपुण हैं।', 'उनके समर्थकों ने उन्हें नाकीब-ए-मिलत (समुदाय का नेता) के रूप में स्वागत किया।', 'कई टिप्पणीकारों ने ओवैसी को जिन्ना की तुलना की।']\n"
          ],
          "name": "stdout"
        },
        {
          "output_type": "display_data",
          "data": {
            "text/markdown": "## Word Tokenization using IndicNLP",
            "text/plain": [
              "<IPython.core.display.Markdown object>"
            ]
          },
          "metadata": {
            "tags": []
          }
        },
        {
          "output_type": "stream",
          "text": [
            "Number of words: 2160191\n",
            "First 50 words are: \n",
            "['मास्टर', 'ऑफ़', 'हेल्थ', 'एडमिनिस्ट्रेशन', 'या', 'मास्टर', 'ऑफ', 'हेल्थकेयर', 'एडमिनिस्ट्रेशन', '(', 'एमएचए', 'या', 'एम', '.', 'एच', '.', 'ए', ')', 'स्नातकोत्तर', '(', 'पोस्ट', 'ग्रेजुएशन', ')', 'की', 'एक', 'पेशेवर', 'डिग्री', 'है', 'जो', 'स्वास्थ्य', 'प्रशासन', 'के', 'क्षेत्र', 'में', 'दी', 'जाती', 'हैं', '।', 'यह', 'उन', 'छात्रों', 'को', 'प्रदान', 'की', 'जाती', 'हैं', 'जिन्होंने', 'स्वास्थ्य', 'प्रशासन', ',']\n"
          ],
          "name": "stdout"
        }
      ]
    },
    {
      "cell_type": "code",
      "metadata": {
        "id": "ir5W-R8fT9_6",
        "outputId": "dd353a40-f1a8-4ca1-b42e-553655afd294",
        "colab": {
          "base_uri": "https://localhost:8080/",
          "height": 602
        }
      },
      "source": [
        "stanfordnlp.download('hi')\n",
        "nlp = stanfordnlp.Pipeline(processors = \"tokenize\", lang=\"hi\")\n",
        "\n",
        "# Sentence Segmentation Using stanfordnlp\n",
        "doc = nlp(hi_text)\n",
        "sent_tokenize_list_stanfordnlp = []\n",
        "for i, sentence in enumerate(doc.sentences):\n",
        "    sent = ' '.join(word.text for word in sentence.words)\n",
        "    sent_tokenize_list_stanfordnlp.append(sent)\n",
        "\n",
        "# Word tokenization using stanfordnlp\n",
        "word_tokenize_list_stanfordnlp = []\n",
        "for sent in doc.sentences:\n",
        "    for word in sent.words:\n",
        "      word_tokenize_list_stanfordnlp.append(word)\n",
        "\n",
        "display(Markdown(\"## Sentece Segmentation using StanfordNLP\"))\n",
        "print(\"Number of sentences: \"+ str(len(sent_tokenize_list_stanfordnlp)))\n",
        "print(\"First 50 sentences are: \")\n",
        "print(sent_tokenize_list_stanfordnlp[:50])\n",
        "display(Markdown(\"## Word Tokenization using StanfordNLP\"))\n",
        "print(\"Number of words: \"+ str(len(word_tokenize_list_stanfordnlp)))\n",
        "print(\"First 50 words are: \")\n",
        "print(word_tokenize_list_stanfordnlp[:50])"
      ],
      "execution_count": null,
      "outputs": [
        {
          "output_type": "stream",
          "text": [
            "Using the default treebank \"hi_hdtb\" for language \"hi\".\n",
            "Would you like to download the models for: hi_hdtb now? (Y/n)\n",
            "y\n",
            "\n",
            "Default download directory: /root/stanfordnlp_resources\n",
            "Hit enter to continue or type an alternate directory.\n",
            "\n",
            "\n",
            "Downloading models for: hi_hdtb\n",
            "Download location: /root/stanfordnlp_resources/hi_hdtb_models.zip\n"
          ],
          "name": "stdout"
        },
        {
          "output_type": "stream",
          "text": [
            "100%|██████████| 208M/208M [02:33<00:00, 1.35MB/s]\n"
          ],
          "name": "stderr"
        },
        {
          "output_type": "stream",
          "text": [
            "\n",
            "Download complete.  Models saved to: /root/stanfordnlp_resources/hi_hdtb_models.zip\n",
            "Extracting models file for: hi_hdtb\n",
            "Cleaning up...Done.\n",
            "Use device: cpu\n",
            "---\n",
            "Loading: tokenize\n",
            "With settings: \n",
            "{'model_path': '/root/stanfordnlp_resources/hi_hdtb_models/hi_hdtb_tokenizer.pt', 'lang': 'hi', 'shorthand': 'hi_hdtb', 'mode': 'predict'}\n",
            "Done loading processors!\n",
            "---\n"
          ],
          "name": "stdout"
        },
        {
          "output_type": "display_data",
          "data": {
            "text/markdown": "## Sentece Segmentation using StanfordNLP",
            "text/plain": [
              "<IPython.core.display.Markdown object>"
            ]
          },
          "metadata": {
            "tags": []
          }
        },
        {
          "output_type": "stream",
          "text": [
            "Number of sentences: 91130\n",
            "First 50 sentences are: \n",
            "['मास्टर ऑफ़ हेल्थ एडमिनिस्ट्रेशन या मास्टर ऑफ हेल्थकेयर एडमिनिस्ट्रेशन ( एमएचए या एम.एच.ए ) स्नातकोत्तर ( पोस्ट ग्रेजुएशन ) की एक पेशेवर डिग्री है जो स्वास्थ्य प्रशासन के क्षेत्र में दी जाती हैं ।', 'यह उन छात्रों को प्रदान की जाती हैं जिन्होंने स्वास्थ्य प्रशासन , अस्पताल प्रबंधन एवं अन्य स्वास्थ्य सेवा संगठनों के क्षेत्र में जरूरी ज्ञान और दक्षता हासिल की हैं ।', 'इन पाठ्यक्रमो में परिस्थितियों के अनुसार इनके सरंचना में अंतर हो सकता हैं', 'हालांकि व्यवसायी-शिक्षक मॉडल कार्यक्रम आमतौर पर चिकित्सा , स्वास्थ्य व्यवसायों या संबद्ध स्वास्थ्य के कॉलेजों में पाए जाते हैं , कक्षा-आधारित कार्यक्रम व्यवसाय या सार्वजनिक स्वास्थ्य के कॉलेजों में होते हैं ।', 'इस पाठ्यक्रम के अध्ययन के दौरान आम तौर पर विद्यार्थियों को जनसंख्या स्वास्थ्य , स्वास्थ्य देखभाल अर्थशास्त्र , स्वास्थ्य नीति , संगठनात्मक व्यवहार , स्वास्थ्य से जुड़े संगठनों के प्रबंधन , स्वास्थ्य विपणन और संचार , मानव संसाधन प्रबंधन , सूचना प्रणाली प्रबंधन के अध्ययन एवं अन्य क्षेत्रों में व्यावहारिक अनुभव की भी आवश्यकता होती है ।', 'यह डिग्री प्रोग्राम स्वास्थ्य विषय के स्नातको को प्रबंधन के मुद्दों की विस्तृत एवं गहन समझ और उन्हें वरिष्ठ प्रबंधन भूमिकाओं के लिए तैयार करने के लिए डिज़ाइन किया गया है ।', 'यह अमेरिकी , यूरोपीय , ऑस्ट्रेलियाई , भारतीय और श्रीलंकाई ( पोस्ट ग्रेजुएट इंस्टीट्यूट ऑफ मेडिसिन- कोलंबो विश्वविद्यालय ) विश्वविद्यालयों के द्वारा प्रदान किया जाता हैं ।', 'यह डिग्री प्रोग्राम पारंपरिक रूप से स्वास्थ्य प्रशासन के स्थानीय , राज्य और संघीय स्तर पर एवं साथ ही गैर-लाभकारी क्षेत्र पर केंद्रित होता है ।', 'एमएचए कार्यक्रमों का उद्देश्य छात्रों को स्वास्थ्य सेवाओं और सिस्टम क्षेत्रों में वरिष्ठ प्रबंधकीय और नियोजन कार्य के लिए जरूरी ज्ञान प्रदान करना है ।', 'कार्यक्रम के उद्देश्य उन स्नातकों को विकसित करना है जो सक्षम सामान्य और वित्तीय प्रबंधकों , सक्षम योजनाकारों , सार्वजनिक स्वास्थ्य के बारे में जानकार और स्वास्थ्य देखभाल प्रणालियों के वित्तपोषण , समाज , कानून और नैतिकता के बारे में जानकार हो।', 'इस पाठ्यक्रम के लिए अधिकांश देशों में , आवेदकों को न्यूनतम चार वर्ष की स्नातक से नीचे की डिग्री की आवश्यकता होती है', 'एवं उन्हें स्वास्थ्य प्रणाली में न्यूनतम पेशेवर अनुभव वांछनीय है।', 'यदयपि विभिन्न विश्वविद्यालयों के अपने मापदंड होते है।', 'यद्यपि संयुक्त राज्य में वाणिज्य , सार्वजनिक स्वास्थ्य एवं स्वास्थ्य विज्ञान के कई कॉलेजों में स्वास्थ्य प्रशासन की डिग्री होती हैं , लेकिन उनमे से ही केवल कुछ को ही “कमीशन ओन द अक्रेदिसन ऑफ़ हेल्थकेयर मैनेजमेंट एजुकेशन ” ( सीएएचएमई ) के द्वारा मान्यता दी जाती है ।', 'इन मान्यता प्राप्त कार्यक्रमों में आवेदन करने के लिए आवेदकों को चार साल की पूर्वस्नातक की डिग्री होनी चाहिये ।', 'कुछ विश्वविद्यालय एएसीएसबी मान्यता , या एमबीए / एचओएम डिग्री कार्यक्रमों के साथ दोहरी एमबीए / एमएचए की डिग्री प्रदान करते हैं , जो कि समवर्ती या क्रमिक रूप से पूरा हो सकते हैं ।', 'कुछ एमएचए कार्यक्रमों को नामांकन से पहले पेशेवर अनुभव की आवश्यकता नहीं होती है लेकिन अधिकांश ऐसे पाठ्यक्रमों में कार्य अनुभव की आवश्यकता होती हैं जिसमें इंटर्नशिप या फेलोशिप शामिल हैं ।', 'संयुक्त राज्य में हेल्थकेयर एडमिनिस्ट्रेशन स्नातक कार्यक्रम अधिकांशत : सार्वजनिक स्वास्थ्य , व्यवसाय , संबद्ध स्वास्थ्य के विद्यालयों द्वारा संचालित किये जाते हैं एवं आषधियों पाठ्शालाओं के द्वारा काफी कम संचालित किये जाते हैं ।', 'ऑस्ट्रेलिया में मास्टर ऑफ़ हेल्थ एडमिनिस्ट्रेशन दो भागों में विभाजित किया जा सकता है जिसमें पहला भाग स्वास्थ्य सेवा प्रबंधन में स्नातक डिप्लोमा और इसी के परिणाम के आधार पर इन डिग्रीधारीयों को कोर्स के दुसरे भाग में जारी रखने की अनुमति दी जाती है जो मास्टर ऑफ हैल्थकेयर एडमिनिस्ट्रेशन की डिग्री में परिणत हो जाती है ।', 'भारत में भी मास्टर ऑफ़ हेल्थ एडमिनिस्ट्रेशन पाठ्यक्रम कई विश्वविद्यालयों एवं अस्पतालों द्वारा आयोजित किया जाता हैं ।', 'कॉर्पोरेट संस्कृति एवं अत्याधुनिक अस्पतालों के आगमन के चलते भारत मे भी इन पाठ्यक्रमों की जरुरत बढती जा रही हैं ।', 'भारत में यह २ वर्षीय पाठ्यक्रम ४ समेस्टर ( 6 महीने का एक समेस्टर ) में बिभाजित होता हैं ।', 'इन पाठ्यक्रम में मानव संसाधन ( एचआर ) से संबंधित समस्याओं को समझने एवं अस्पताल के स्वास्थ्य सेवाओं के बीच समन्वय के लिए इन उम्मीदवारों को विशेष कौशल सीखाया जाता हैं ।', 'इस पाठ्यक्रम में दाखिले के लिए एमबीबीएस / बीडीएस / बीवीएससी / बीएससी ( नर्सिंग ) / बीएचए / बीबीए ( एचए ) में से कोई भी एक पाठ्यक्रम में न्यूनतम 50% अंक होने चाहिए ।', 'पाठ्यक्रम में उम्मीदवारों की चयन प्रक्रिया प्रवेश परीक्षाओं के आधार पर की जाती है ।', 'भारत के कुछ प्रमुख अस्पताल जैसे एम्स , देवी अहिल्या इंस्टिट्यूट ऑफ हॉस्पिटल एडमिनिस्ट्रेशन , अपोलो हॉस्पिटल प्रशासन संस्थान , हैदराबाद इत्यादि के द्वारा भी मास्टर ऑफ़ हेल्थ एडमिनिस्ट्रेशन पाठ्यक्रम आयोजित किये जाते हैं ।', 'असादुदीन ओवैसी ( जन्म 13 मई 1969 ) भारतीय राजनीतिज्ञ हैं ।', 'वे ऑल इंडिया मजलिस-ए-इत्तेहादुल मुस्लिमीन के राष्ट्रीय अध्यक्ष हैं ।', 'ओवैसी पहली बार 2004 में हैदराबाद लोकसभा क्षेत्र से सांसद चुने गए थे ।', 'उसके बाद वे 2009 और 2014 के आम चुनाव में भी हैदराबाद क्षेत्र से सांसद चुने गए ।', '2019 के आम चुनाव में वह अपनी पार्टी ऑल इंडिया मजलिस ए इत्तेहादुल मुस्लिमीन से फिर एक बार हैदराबाद क्षेत्र से उम्मीदवार हैं असदुद्दीन ओवैसी के पिता सलाहुद्दीन ओवैसी भी एक राजनेता थे ।', 'वह दो दशक से भी अधिक तक हैदराबाद के सांसद रहे।', 'असदुद्दीन ओवैसी का जन्म 13 मई 1969 को सुन्नी मुस्लिम परिवार में सुल्तान सलाहुद्दीन ओवैसी और नजमुनेस्सा बेगम के यहाँ हुआ था ।', 'वह हैदराबाद के एक राजनीतिक परिवार से आता है ।', 'उनके दादा अब्दुल वाघ ओवैसी ने राजनीतिक दल मजलिस-ए-इत्तेहादुल मुस्लिममेन को ऑल इंडिया मजलिस-ए-इत्तेहादुल मुस्लिमीन के रूप में 18 सितंबर 1957 में दोबारा शुरू किया ।', 'जेल से रिहा होने के बाद भी वह पार्टी के अध्यक्ष के रूप में कासिम राज्वी का पद संभाला ।', 'उनके पिता सुल्तान सलाहुद्दीन 1962 में आंध्र प्रदेश विधान सभा के लिए चुने गए ।', '1984 में पहली बार हैदराबाद निर्वाचन क्षेत्र से भारतीय संसद के लिए चुने गए और 2004 तक चुनाव जीते रहे , जब उन्होंने असदुद्दीन के पक्ष में पद छोड़ दिया ।', '2008 में उनका निधन हो गया ।', 'असदुद्दीन ओवैसी ने हैदराबाद के निजाम कॉलेज ( उस्मानिया विश्वविद्यालय ) से कला में स्नातक की पढ़ाई पूरी की ।', 'उन्होंने 1994 में विज्जी ट्रॉफी में तेज गेंदबाज के रूप में दक्षिण क्षेत्र अंतर-विश्वविद्यालय अंडर -25 के क्रिकेट टीम का प्रतिनिधित्व किया और बाद में दक्षिण क्षेत्र विश्वविद्यालय टीम में चुना गया ।', 'वह पेशे से एक बैरिस्टर हैं और लंदन के लिंकन इन में अध्ययन करते हैं ।', 'उनके भाई अकबरुद्दीन ओवैसी तेलंगाना विधान सभा के सदस्य हैं और इसमें पार्टी का नेतृत्व कर रहे हैं ।', 'उनका सबसे छोटा भाई बुरहानुद्दीन ओवैसी इटैमाद के संपादक हैं ।', 'ओवैसी की शादी फ़रहीन ओवैसी से हुई है ।', 'दंपति के छह बच्चे हैं जिनमें एक बेटा , सुल्तान uddin ओवैसी ( 2010 का जन्म ) और पांच बेटियां शामिल हैं ।', 'वह हैदराबाद के शास्त्रीपुरम , मेलर्देवपल्ली में रहते हैं ।', 'उनकी सबसे बड़ी बेटी कुदसिया ओवैसी की 24 मार्च 2018 को नवाब शाह आलम खान ( पैतृक ) और डॉ. मोइनुद्दीन खान सांडोज़ाई ( मातृक्षीय पक्ष ) के पोता बरकत आलम खान से सगाई हुई थी ।', 'उनकी बेटियों में से एक चिकित्सक डॉ मज़हर अली खान के बेटे से सगाई हुई है , जो सियासत डेली के संपादक जहिद अली खान के चचेरे भाई हैं ।', 'वह उर्दू / हिंदी और अंग्रेजी में निपुण हैं ।']\n"
          ],
          "name": "stdout"
        },
        {
          "output_type": "display_data",
          "data": {
            "text/markdown": "## Word Tokenization using StanfordNLP",
            "text/plain": [
              "<IPython.core.display.Markdown object>"
            ]
          },
          "metadata": {
            "tags": []
          }
        },
        {
          "output_type": "stream",
          "text": [
            "Number of words: 2095356\n",
            "First 50 words are: \n",
            "[<Word index=1;text=मास्टर>, <Word index=2;text=ऑफ़>, <Word index=3;text=हेल्थ>, <Word index=4;text=एडमिनिस्ट्रेशन>, <Word index=5;text=या>, <Word index=6;text=मास्टर>, <Word index=7;text=ऑफ>, <Word index=8;text=हेल्थकेयर>, <Word index=9;text=एडमिनिस्ट्रेशन>, <Word index=10;text=(>, <Word index=11;text=एमएचए>, <Word index=12;text=या>, <Word index=13;text=एम.एच.ए>, <Word index=14;text=)>, <Word index=15;text=स्नातकोत्तर>, <Word index=16;text=(>, <Word index=17;text=पोस्ट>, <Word index=18;text=ग्रेजुएशन>, <Word index=19;text=)>, <Word index=20;text=की>, <Word index=21;text=एक>, <Word index=22;text=पेशेवर>, <Word index=23;text=डिग्री>, <Word index=24;text=है>, <Word index=25;text=जो>, <Word index=26;text=स्वास्थ्य>, <Word index=27;text=प्रशासन>, <Word index=28;text=के>, <Word index=29;text=क्षेत्र>, <Word index=30;text=में>, <Word index=31;text=दी>, <Word index=32;text=जाती>, <Word index=33;text=हैं>, <Word index=34;text=।>, <Word index=1;text=यह>, <Word index=2;text=उन>, <Word index=3;text=छात्रों>, <Word index=4;text=को>, <Word index=5;text=प्रदान>, <Word index=6;text=की>, <Word index=7;text=जाती>, <Word index=8;text=हैं>, <Word index=9;text=जिन्होंने>, <Word index=10;text=स्वास्थ्य>, <Word index=11;text=प्रशासन>, <Word index=12;text=,>, <Word index=13;text=अस्पताल>, <Word index=14;text=प्रबंधन>, <Word index=15;text=एवं>, <Word index=16;text=अन्य>]\n"
          ],
          "name": "stdout"
        }
      ]
    },
    {
      "cell_type": "markdown",
      "metadata": {
        "id": "fSf4r0E6SIyD"
      },
      "source": [
        "### 1.3.1.2"
      ]
    },
    {
      "cell_type": "code",
      "metadata": {
        "id": "mOR6uFPXV2z7",
        "outputId": "046d6fb3-a9fa-4f81-c434-50f6ec7fec88",
        "colab": {
          "base_uri": "https://localhost:8080/",
          "height": 404
        }
      },
      "source": [
        "# Unigrams and plot for frequency distribution\n",
        "\n",
        "uni_grams_hi = ngrams(word_tokenize_list_hi,1)\n",
        "fdist_uni_hi = nltk.FreqDist(uni_grams_hi)\n",
        "\n",
        "freq_values = sorted(fdist_uni_hi.values(), reverse=True)\n",
        "x_labels = [ i for i in range(1,101)]\n",
        "plt.figure(figsize=(12, 6))\n",
        "plt.title(\"Unigram Frequency Distribution Plot - Hindi\")\n",
        "plt.xlabel(\"Most common 100 unigrams\")\n",
        "plt.ylabel(\"Frequencies\")\n",
        "plt.plot(x_labels,freq_values[:100])\n",
        "plt.show()"
      ],
      "execution_count": null,
      "outputs": [
        {
          "output_type": "display_data",
          "data": {
            "image/png": "[encoded data removed]",
            "text/plain": [
              "<Figure size 864x432 with 1 Axes>"
            ]
          },
          "metadata": {
            "tags": [],
            "needs_background": "light"
          }
        }
      ]
    },
    {
      "cell_type": "markdown",
      "metadata": {
        "id": "0ld31RfXSLj0"
      },
      "source": [
        "### 1.3.1.3"
      ]
    },
    {
      "cell_type": "code",
      "metadata": {
        "id": "-8JMh9FtWpwy",
        "outputId": "1c5f667d-9c78-4c01-f878-03d5b613608f",
        "colab": {
          "base_uri": "https://localhost:8080/",
          "height": 404
        }
      },
      "source": [
        "# Bigrams and plot for frequency distribution\n",
        "\n",
        "bi_grams_hi = ngrams(word_tokenize_list_hi,2)\n",
        "fdist_bi_hi = nltk.FreqDist(bi_grams_hi)\n",
        "\n",
        "freq_values = sorted(fdist_bi_hi.values(), reverse=True)\n",
        "x_labels = [ i for i in range(1,101) ]\n",
        "plt.figure(figsize=(12, 6))\n",
        "plt.title(\"Bigram Frequency Distribution Plot\")\n",
        "plt.xlabel(\"Most common 100 bigrams\")\n",
        "plt.ylabel(\"Frequencies\")\n",
        "plt.plot(x_labels,freq_values[:100])\n",
        "plt.show()"
      ],
      "execution_count": null,
      "outputs": [
        {
          "output_type": "display_data",
          "data": {
            "image/png": "[encoded data removed]",
            "text/plain": [
              "<Figure size 864x432 with 1 Axes>"
            ]
          },
          "metadata": {
            "tags": [],
            "needs_background": "light"
          }
        }
      ]
    },
    {
      "cell_type": "markdown",
      "metadata": {
        "id": "v_ZdCHtGSOyk"
      },
      "source": [
        "### 1.3.1.4"
      ]
    },
    {
      "cell_type": "code",
      "metadata": {
        "id": "3U2xo_RJWz2n",
        "outputId": "ed0c3f40-429e-4bb7-d808-d14dcfa0df71",
        "colab": {
          "base_uri": "https://localhost:8080/",
          "height": 404
        }
      },
      "source": [
        "# Trigrams and plot for frequency distribution\n",
        "\n",
        "tri_grams_hi = ngrams(word_tokenize_list_hi,3)\n",
        "fdist_tri_hi = nltk.FreqDist(tri_grams_hi)\n",
        "\n",
        "freq_values = sorted(fdist_tri_hi.values(), reverse=True)\n",
        "x_labels = [ i for i in range(1,101) ]\n",
        "plt.figure(figsize=(12, 6))\n",
        "plt.title(\"Trigram Frequency Distribution Plot\")\n",
        "plt.xlabel(\"Most common 100 trigrams\")\n",
        "plt.ylabel(\"Frequencies\")\n",
        "plt.plot(x_labels,freq_values[:100])\n",
        "plt.show()"
      ],
      "execution_count": null,
      "outputs": [
        {
          "output_type": "display_data",
          "data": {
            "image/png": "[encoded data removed]",
            "text/plain": [
              "<Figure size 864x432 with 1 Axes>"
            ]
          },
          "metadata": {
            "tags": [],
            "needs_background": "light"
          }
        }
      ]
    },
    {
      "cell_type": "markdown",
      "metadata": {
        "id": "Tv2-0X8FSRhk"
      },
      "source": [
        "### Zipf's law curve fitting"
      ]
    },
    {
      "cell_type": "code",
      "metadata": {
        "id": "65tkrfzkXRmm",
        "outputId": "6dfeffdd-1c38-4f44-fbac-9bb0821bce47",
        "colab": {
          "base_uri": "https://localhost:8080/",
          "height": 438
        }
      },
      "source": [
        "# Getting log values for frequency plot\n",
        "freq_values = sorted(fdist_uni_hi.values(), reverse=True)\n",
        "x_labels = [ i for i in range(1,len(freq_values)+1) ]\n",
        "log_freq_values = np.asarray([np.log(i) for i in freq_values])\n",
        "log_x_labels = np.asarray([np.log(i) for i in x_labels])\n",
        "plt.figure(figsize=(12, 6))\n",
        "plt.title(\"Unigram Frequency Distribution Plot vs Zipf's Law\")\n",
        "plt.xlabel(\"Unigrams\")\n",
        "plt.ylabel(\"Frequencies\")\n",
        "\n",
        "slope, intercept = np.polyfit(log_x_labels, log_freq_values, 1)\n",
        "plt.plot(log_x_labels,log_freq_values)\n",
        "plt.plot(log_x_labels, slope*log_x_labels+intercept, color=\"red\")\n",
        "plt.show()\n",
        "print(\"Slope: \"+str(slope))\n",
        "print(\"Intercept: \"+str(intercept))"
      ],
      "execution_count": null,
      "outputs": [
        {
          "output_type": "display_data",
          "data": {
            "image/png": "[encoded data removed]",
            "text/plain": [
              "<Figure size 864x432 with 1 Axes>"
            ]
          },
          "metadata": {
            "tags": [],
            "needs_background": "light"
          }
        },
        {
          "output_type": "stream",
          "text": [
            "Slope: -1.1687693027291786\n",
            "Intercept: 13.234523105816232\n"
          ],
          "name": "stdout"
        }
      ]
    },
    {
      "cell_type": "markdown",
      "metadata": {
        "id": "K8R-pkh8SXbO"
      },
      "source": [
        "## 1.3.2 Few Basic Questions"
      ]
    },
    {
      "cell_type": "code",
      "metadata": {
        "id": "-jAwWX6GXdDk"
      },
      "source": [
        "def get_coverage_number(total_grams, percentage, freq_values):\n",
        "  required_grams = 0\n",
        "  gram_coverage = 0\n",
        "  for freq in freq_values:\n",
        "    if gram_coverage <= percentage*total_grams:\n",
        "      required_grams += 1\n",
        "      gram_coverage += freq\n",
        "    else:\n",
        "      break\n",
        "  return required_grams"
      ],
      "execution_count": null,
      "outputs": []
    },
    {
      "cell_type": "markdown",
      "metadata": {
        "id": "D_UtpDIySbWA"
      },
      "source": [
        "### 1.3.2.1"
      ]
    },
    {
      "cell_type": "code",
      "metadata": {
        "id": "CzTnJu5mXoMs",
        "outputId": "0ca295c3-e480-40cc-8502-8959fdcfaf23",
        "colab": {
          "base_uri": "https://localhost:8080/",
          "height": 50
        }
      },
      "source": [
        "total_unigrams = fdist_uni_hi.N()\n",
        "freq_values = sorted(fdist_uni_hi.values(), reverse=True)\n",
        "required_unigrams = get_coverage_number(total_unigrams, 0.9, freq_values)\n",
        "print(\"Total number of unigrams: \"+str(total_unigrams))\n",
        "print(\"Uni-grams required for 90% coverage: \"+str(required_unigrams))"
      ],
      "execution_count": null,
      "outputs": [
        {
          "output_type": "stream",
          "text": [
            "Total number of unigrams: 2160191\n",
            "Uni-grams required for 90% coverage: 11658\n"
          ],
          "name": "stdout"
        }
      ]
    },
    {
      "cell_type": "markdown",
      "metadata": {
        "id": "LxxRRfyWSdqQ"
      },
      "source": [
        "### 1.3.2.2"
      ]
    },
    {
      "cell_type": "code",
      "metadata": {
        "id": "YBM5NoIbZd0m",
        "outputId": "14dc2efb-40c8-41c6-cf2d-feeb0e720178",
        "colab": {
          "base_uri": "https://localhost:8080/",
          "height": 50
        }
      },
      "source": [
        "total_bigrams = fdist_bi_hi.N()\n",
        "freq_values = sorted(fdist_bi_hi.values(), reverse=True)\n",
        "required_bigrams = get_coverage_number(total_bigrams, 0.8, freq_values)\n",
        "print(\"Total number of bigrams: \"+str(total_bigrams))\n",
        "print(\"Bi-grams required for 80% coverage: \"+str(required_bigrams))"
      ],
      "execution_count": null,
      "outputs": [
        {
          "output_type": "stream",
          "text": [
            "Total number of bigrams: 2160190\n",
            "Bi-grams required for 80% coverage: 366558\n"
          ],
          "name": "stdout"
        }
      ]
    },
    {
      "cell_type": "markdown",
      "metadata": {
        "id": "OJL3MuKgSicW"
      },
      "source": [
        "### 1.3.2.3"
      ]
    },
    {
      "cell_type": "code",
      "metadata": {
        "id": "opfIMoVYZ_IM",
        "outputId": "f698d1d1-3e65-4b64-9e04-2e2e39c3f077",
        "colab": {
          "base_uri": "https://localhost:8080/",
          "height": 50
        }
      },
      "source": [
        "total_trigrams = fdist_tri_hi.N()\n",
        "freq_values = sorted(fdist_tri_hi.values(), reverse=True)\n",
        "required_trigrams = get_coverage_number(total_trigrams, 0.7, freq_values)\n",
        "print(\"Total number of trigrams: \"+str(total_trigrams))\n",
        "print(\"Tri-grams required for 70% coverage: \"+str(required_trigrams))"
      ],
      "execution_count": null,
      "outputs": [
        {
          "output_type": "stream",
          "text": [
            "Total number of trigrams: 2160189\n",
            "Tri-grams required for 70% coverage: 923215\n"
          ],
          "name": "stdout"
        }
      ]
    },
    {
      "cell_type": "markdown",
      "metadata": {
        "id": "JOL2qeqhSkpU"
      },
      "source": [
        "### 1.3.2.4"
      ]
    },
    {
      "cell_type": "code",
      "metadata": {
        "id": "g98aJcfUcQMz"
      },
      "source": [
        "def generate_stem_words(word):\n",
        "\t\tsuffixes = {\n",
        "    1: [u\"ो\",u\"े\",u\"ू\",u\"ु\",u\"ी\",u\"ि\",u\"ा\"],\n",
        "    2: [u\"कर\",u\"ाओ\",u\"िए\",u\"ाई\",u\"ाए\",u\"ने\",u\"नी\",u\"ना\",u\"ते\",u\"ीं\",u\"ती\",u\"ता\",u\"ाँ\",u\"ां\",u\"ों\",u\"ें\"],\n",
        "    3: [u\"ाकर\",u\"ाइए\",u\"ाईं\",u\"ाया\",u\"ेगी\",u\"ेगा\",u\"ोगी\",u\"ोगे\",u\"ाने\",u\"ाना\",u\"ाते\",u\"ाती\",u\"ाता\",u\"तीं\",u\"ाओं\",u\"ाएं\",u\"ुओं\",u\"ुएं\",u\"ुआं\"],\n",
        "    4: [u\"ाएगी\",u\"ाएगा\",u\"ाओगी\",u\"ाओगे\",u\"एंगी\",u\"ेंगी\",u\"एंगे\",u\"ेंगे\",u\"ूंगी\",u\"ूंगा\",u\"ातीं\",u\"नाओं\",u\"नाएं\",u\"ताओं\",u\"ताएं\",u\"ियाँ\",u\"ियों\",u\"ियां\"],\n",
        "    5: [u\"ाएंगी\",u\"ाएंगे\",u\"ाऊंगी\",u\"ाऊंगा\",u\"ाइयाँ\",u\"ाइयों\",u\"ाइयां\"],\n",
        "}\n",
        "\t\tfor L in 5, 4, 3, 2, 1:\n",
        "\t\t\tif len(word) > L + 1:\n",
        "\t\t\t\tfor suf in suffixes[L]:\n",
        "\t\t\t\t\tif word.endswith(suf):\n",
        "\t\t\t\t\t\treturn word[:-L]\n",
        "\t\treturn word\n",
        "\n",
        "stemmed_words_hi = []\n",
        "for t in word_tokenize_list_hi:\n",
        "  stemmed_words_hi.append(generate_stem_words(t))"
      ],
      "execution_count": null,
      "outputs": []
    },
    {
      "cell_type": "code",
      "metadata": {
        "id": "GVi6KHpLcgIx"
      },
      "source": [
        "new_uni_grams = ngrams(stemmed_words_hi,1)\n",
        "new_fdist_uni = nltk.FreqDist(new_uni_grams)\n",
        "\n",
        "new_bi_grams = ngrams(stemmed_words_hi,2)\n",
        "new_fdist_bi = nltk.FreqDist(new_bi_grams)\n",
        "\n",
        "new_tri_grams = ngrams(stemmed_words_hi,3)\n",
        "new_fdist_tri = nltk.FreqDist(new_tri_grams)"
      ],
      "execution_count": null,
      "outputs": []
    },
    {
      "cell_type": "code",
      "metadata": {
        "id": "ir_JoT4uc0e7",
        "outputId": "92b63431-4b4d-4b1b-9712-5de4a14d3471",
        "colab": {
          "base_uri": "https://localhost:8080/",
          "height": 91
        }
      },
      "source": [
        "total_unigrams = new_fdist_uni.N()\n",
        "freq_values = sorted(new_fdist_uni.values(), reverse=True)\n",
        "required_unigrams = get_coverage_number(total_unigrams, 0.9, freq_values)\n",
        "display(Markdown(\"### After Stemming\"))\n",
        "print(\"Total number of unigrams: \"+str(total_unigrams))\n",
        "print(\"Uni-grams required for 90% coverage: \"+str(required_unigrams))"
      ],
      "execution_count": null,
      "outputs": [
        {
          "output_type": "display_data",
          "data": {
            "text/markdown": "### After Stemming",
            "text/plain": [
              "<IPython.core.display.Markdown object>"
            ]
          },
          "metadata": {
            "tags": []
          }
        },
        {
          "output_type": "stream",
          "text": [
            "Total number of unigrams: 2160191\n",
            "Uni-grams required for 90% coverage: 7179\n"
          ],
          "name": "stdout"
        }
      ]
    },
    {
      "cell_type": "code",
      "metadata": {
        "id": "mehdx-ZWc7pN",
        "outputId": "09ed2cea-60f8-4bdc-a3bf-836a35c4fa2a",
        "colab": {
          "base_uri": "https://localhost:8080/",
          "height": 91
        }
      },
      "source": [
        "total_bigrams = new_fdist_bi.N()\n",
        "freq_values = sorted(new_fdist_bi.values(), reverse=True)\n",
        "required_bigrams = get_coverage_number(total_bigrams, 0.8, freq_values)\n",
        "display(Markdown(\"### After Stemming\"))\n",
        "print(\"Total number of bigrams: \"+str(total_bigrams))\n",
        "print(\"Bi-grams required for 80% coverage: \"+str(required_bigrams))"
      ],
      "execution_count": null,
      "outputs": [
        {
          "output_type": "display_data",
          "data": {
            "text/markdown": "### After Stemming",
            "text/plain": [
              "<IPython.core.display.Markdown object>"
            ]
          },
          "metadata": {
            "tags": []
          }
        },
        {
          "output_type": "stream",
          "text": [
            "Total number of bigrams: 2160190\n",
            "Bi-grams required for 80% coverage: 284614\n"
          ],
          "name": "stdout"
        }
      ]
    },
    {
      "cell_type": "code",
      "metadata": {
        "id": "OCNIgVxadEuG",
        "outputId": "87a96940-89bd-427c-ddd5-bc4e367a702c",
        "colab": {
          "base_uri": "https://localhost:8080/",
          "height": 91
        }
      },
      "source": [
        "total_trigrams = new_fdist_tri.N()\n",
        "freq_values = sorted(new_fdist_tri.values(), reverse=True)\n",
        "required_trigrams = get_coverage_number(total_trigrams, 0.7, freq_values)\n",
        "display(Markdown(\"### After Stemming\"))\n",
        "print(\"Total number of trigrams: \"+str(total_trigrams))\n",
        "print(\"Tri-grams required for 70% coverage: \"+str(required_trigrams))"
      ],
      "execution_count": null,
      "outputs": [
        {
          "output_type": "display_data",
          "data": {
            "text/markdown": "### After Stemming",
            "text/plain": [
              "<IPython.core.display.Markdown object>"
            ]
          },
          "metadata": {
            "tags": []
          }
        },
        {
          "output_type": "stream",
          "text": [
            "Total number of trigrams: 2160189\n",
            "Tri-grams required for 70% coverage: 866237\n"
          ],
          "name": "stdout"
        }
      ]
    },
    {
      "cell_type": "markdown",
      "metadata": {
        "id": "XfkTsZngSqZN"
      },
      "source": [
        "## 1.3.3 Witing some of basic codes"
      ]
    },
    {
      "cell_type": "markdown",
      "metadata": {
        "id": "wudlo2K5SEnK"
      },
      "source": [
        "###  1.3.3.1 Heuristics for sentence segmentation and word tokenization"
      ]
    },
    {
      "cell_type": "code",
      "metadata": {
        "id": "a336ZoGqSWfg"
      },
      "source": [
        "sentences_with_heuristics = []\n",
        "words_with_heuristics = []\n",
        "\n",
        "token_list = hi_text.split()\n",
        "token_list_length  = len(token_list)\n",
        "\n",
        "current_sentence = []\n",
        "i=0\n",
        "for token in token_list:\n",
        "    current_sentence.append(token)\n",
        "    if token[-1] == '।' or token[-1] == '!' or token[-1] == '?':\n",
        "      sentences_with_heuristics.append(' '.join(current_sentence))\n",
        "      current_sentence = []\n",
        "\n",
        "    if token[-1] == '।' or token[-1] == '!' or token[-1] == '?':\n",
        "      words_with_heuristics.append(token[:-1])\n",
        "    else:\n",
        "      words_with_heuristics.append(token)\n",
        "    i+=1"
      ],
      "execution_count": null,
      "outputs": []
    },
    {
      "cell_type": "code",
      "metadata": {
        "id": "Aqz1dbDsUd2u",
        "outputId": "269faf03-41da-4de1-b102-b38607be908f",
        "colab": {
          "base_uri": "https://localhost:8080/",
          "height": 370
        }
      },
      "source": [
        "# Repeating 1.3.2\n",
        "\n",
        "display(Markdown(\"## Results after implementing heuristics:\"))\n",
        "print(\"\\nNumber of sentences: \"+ str(len(sentences_with_heuristics)))\n",
        "print(\"First 10 sentences are: \")\n",
        "print(sentences_with_heuristics[:10])\n",
        "print(\"\\nNumber of words: \"+ str(len(words_with_heuristics)))\n",
        "print(\"First 10 words are: \")\n",
        "print(words_with_heuristics[:10])\n",
        "\n",
        "uni_grams_hue = ngrams(words_with_heuristics,1)\n",
        "fdist_uni_hue = nltk.FreqDist(uni_grams_hue)\n",
        "total_unigrams = fdist_uni_hue.N()\n",
        "freq_values = sorted(fdist_uni_hue.values(), reverse=True)\n",
        "required_unigrams = get_coverage_number(total_unigrams, 0.9, freq_values)\n",
        "print(\"\\nTotal number of unigrams: \"+str(total_unigrams))\n",
        "print(\"Uni-grams required for 90% coverage: \"+str(required_unigrams))\n",
        "\n",
        "bi_grams_hue = ngrams(words_with_heuristics,2)\n",
        "fdist_bi_hue = nltk.FreqDist(bi_grams_hue)\n",
        "total_bigrams = fdist_bi_hue.N()\n",
        "freq_values = sorted(fdist_bi_hue.values(), reverse=True)\n",
        "required_bigrams = get_coverage_number(total_bigrams, 0.8, freq_values)\n",
        "print(\"\\nTotal number of bigrams: \"+str(total_bigrams))\n",
        "print(\"Bi-grams required for 80% coverage: \"+str(required_bigrams))\n",
        "\n",
        "tri_grams_hue = ngrams(words_with_heuristics,3)\n",
        "fdist_tri_hue = nltk.FreqDist(tri_grams_hue)\n",
        "total_trigrams = fdist_tri_hue.N()\n",
        "freq_values = sorted(fdist_tri_hue.values(), reverse=True)\n",
        "required_trigrams = get_coverage_number(total_trigrams, 0.8, freq_values)\n",
        "print(\"\\nTotal number of trigrams: \"+str(total_trigrams))\n",
        "print(\"Tri-grams required for 70% coverage: \"+str(required_trigrams))"
      ],
      "execution_count": null,
      "outputs": [
        {
          "output_type": "display_data",
          "data": {
            "text/markdown": "## Results after implementing heuristics:",
            "text/plain": [
              "<IPython.core.display.Markdown object>"
            ]
          },
          "metadata": {
            "tags": []
          }
        },
        {
          "output_type": "stream",
          "text": [
            "\n",
            "Number of sentences: 79004\n",
            "First 10 sentences are: \n",
            "['मास्टर ऑफ़ हेल्थ एडमिनिस्ट्रेशन या मास्टर ऑफ हेल्थकेयर एडमिनिस्ट्रेशन (एमएचए या एम.एच.ए) स्नातकोत्तर (पोस्ट ग्रेजुएशन) की एक पेशेवर डिग्री है जो स्वास्थ्य प्रशासन के क्षेत्र में दी जाती हैं।', 'यह उन छात्रों को प्रदान की जाती हैं जिन्होंने स्वास्थ्य प्रशासन, अस्पताल प्रबंधन एवं अन्य स्वास्थ्य सेवा संगठनों के क्षेत्र में जरूरी ज्ञान और दक्षता हासिल की हैं।', 'इन पाठ्यक्रमो में परिस्थितियों के अनुसार इनके सरंचना में अंतर हो सकता हैं हालांकि व्यवसायी-शिक्षक मॉडल कार्यक्रम आमतौर पर चिकित्सा, स्वास्थ्य व्यवसायों या संबद्ध स्वास्थ्य के कॉलेजों में पाए जाते हैं, कक्षा-आधारित कार्यक्रम व्यवसाय या सार्वजनिक स्वास्थ्य के कॉलेजों में होते हैं।', 'इस पाठ्यक्रम के अध्ययन के दौरान आम तौर पर विद्यार्थियों को जनसंख्या स्वास्थ्य, स्वास्थ्य देखभाल अर्थशास्त्र, स्वास्थ्य नीति, संगठनात्मक व्यवहार, स्वास्थ्य से जुड़े संगठनों के प्रबंधन, स्वास्थ्य विपणन और संचार, मानव संसाधन प्रबंधन, सूचना प्रणाली प्रबंधन के अध्ययन एवं अन्य क्षेत्रों में व्यावहारिक अनुभव की भी आवश्यकता होती है।', 'यह डिग्री प्रोग्राम स्वास्थ्य विषय के स्नातको को प्रबंधन के मुद्दों की विस्तृत एवं गहन समझ और उन्हें वरिष्ठ प्रबंधन भूमिकाओं के लिए तैयार करने के लिए डिज़ाइन किया गया है।', 'यह अमेरिकी, यूरोपीय, ऑस्ट्रेलियाई, भारतीय और श्रीलंकाई (पोस्ट ग्रेजुएट इंस्टीट्यूट ऑफ मेडिसिन- कोलंबो विश्वविद्यालय) विश्वविद्यालयों के द्वारा प्रदान किया जाता हैं।', 'यह डिग्री प्रोग्राम पारंपरिक रूप से स्वास्थ्य प्रशासन के स्थानीय, राज्य और संघीय स्तर पर एवं साथ ही गैर-लाभकारी क्षेत्र पर केंद्रित होता है।', 'एमएचए कार्यक्रमों का उद्देश्य छात्रों को स्वास्थ्य सेवाओं और सिस्टम क्षेत्रों में वरिष्ठ प्रबंधकीय और नियोजन कार्य के लिए जरूरी ज्ञान प्रदान करना है।', 'कार्यक्रम के उद्देश्य उन स्नातकों को विकसित करना है जो सक्षम सामान्य और वित्तीय प्रबंधकों, सक्षम योजनाकारों, सार्वजनिक स्वास्थ्य के बारे में जानकार और स्वास्थ्य देखभाल प्रणालियों के वित्तपोषण, समाज, कानून और नैतिकता के बारे में जानकार हो।', 'इस पाठ्यक्रम के लिए अधिकांश देशों में, आवेदकों को न्यूनतम चार वर्ष की स्नातक से नीचे की डिग्री की आवश्यकता होती है एवं उन्हें स्वास्थ्य प्रणाली में न्यूनतम पेशेवर अनुभव वांछनीय है।']\n",
            "\n",
            "Number of words: 1890275\n",
            "First 10 words are: \n",
            "['मास्टर', 'ऑफ़', 'हेल्थ', 'एडमिनिस्ट्रेशन', 'या', 'मास्टर', 'ऑफ', 'हेल्थकेयर', 'एडमिनिस्ट्रेशन', '(एमएचए']\n",
            "\n",
            "Total number of unigrams: 1890275\n",
            "Uni-grams required for 90% coverage: 20112\n",
            "\n",
            "Total number of bigrams: 1890274\n",
            "Bi-grams required for 80% coverage: 454286\n",
            "\n",
            "Total number of trigrams: 1890273\n",
            "Tri-grams required for 70% coverage: 1136333\n"
          ],
          "name": "stdout"
        }
      ]
    },
    {
      "cell_type": "code",
      "metadata": {
        "id": "bamgmy7aVipG"
      },
      "source": [
        "def generate_stem_words(word):\n",
        "\t\tsuffixes = {\n",
        "    1: [u\"ो\",u\"े\",u\"ू\",u\"ु\",u\"ी\",u\"ि\",u\"ा\"],\n",
        "    2: [u\"कर\",u\"ाओ\",u\"िए\",u\"ाई\",u\"ाए\",u\"ने\",u\"नी\",u\"ना\",u\"ते\",u\"ीं\",u\"ती\",u\"ता\",u\"ाँ\",u\"ां\",u\"ों\",u\"ें\"],\n",
        "    3: [u\"ाकर\",u\"ाइए\",u\"ाईं\",u\"ाया\",u\"ेगी\",u\"ेगा\",u\"ोगी\",u\"ोगे\",u\"ाने\",u\"ाना\",u\"ाते\",u\"ाती\",u\"ाता\",u\"तीं\",u\"ाओं\",u\"ाएं\",u\"ुओं\",u\"ुएं\",u\"ुआं\"],\n",
        "    4: [u\"ाएगी\",u\"ाएगा\",u\"ाओगी\",u\"ाओगे\",u\"एंगी\",u\"ेंगी\",u\"एंगे\",u\"ेंगे\",u\"ूंगी\",u\"ूंगा\",u\"ातीं\",u\"नाओं\",u\"नाएं\",u\"ताओं\",u\"ताएं\",u\"ियाँ\",u\"ियों\",u\"ियां\"],\n",
        "    5: [u\"ाएंगी\",u\"ाएंगे\",u\"ाऊंगी\",u\"ाऊंगा\",u\"ाइयाँ\",u\"ाइयों\",u\"ाइयां\"],\n",
        "}\n",
        "\t\tfor L in 5, 4, 3, 2, 1:\n",
        "\t\t\tif len(word) > L + 1:\n",
        "\t\t\t\tfor suf in suffixes[L]:\n",
        "\t\t\t\t\tif word.endswith(suf):\n",
        "\t\t\t\t\t\treturn word[:-L]\n",
        "\t\treturn word\n",
        "\n",
        "stemmed_words_hi = []\n",
        "for t in words_with_heuristics:\n",
        "  stemmed_words_hi.append(generate_stem_words(t))"
      ],
      "execution_count": null,
      "outputs": []
    },
    {
      "cell_type": "code",
      "metadata": {
        "id": "FU9RZeZ-V1NT"
      },
      "source": [
        "new_uni_grams = ngrams(stemmed_words,1)\n",
        "new_fdist_uni = nltk.FreqDist(new_uni_grams)\n",
        "\n",
        "new_bi_grams = ngrams(stemmed_words,2)\n",
        "new_fdist_bi = nltk.FreqDist(new_bi_grams)\n",
        "\n",
        "new_tri_grams = ngrams(stemmed_words,3)\n",
        "new_fdist_tri = nltk.FreqDist(new_tri_grams)"
      ],
      "execution_count": null,
      "outputs": []
    },
    {
      "cell_type": "code",
      "metadata": {
        "id": "htXP392cV72t",
        "outputId": "9baa65a5-25f4-4656-8f82-bb2b47d02aba",
        "colab": {
          "base_uri": "https://localhost:8080/",
          "height": 239
        }
      },
      "source": [
        "total_unigrams = new_fdist_uni.N()\n",
        "freq_values = sorted(new_fdist_uni.values(), reverse=True)\n",
        "required_unigrams = get_coverage_number(total_unigrams, 0.9, freq_values)\n",
        "display(Markdown(\"### After Stemming\"))\n",
        "print(\"Total number of unigrams: \"+str(total_unigrams))\n",
        "print(\"Uni-grams required for 90% coverage: \"+str(required_unigrams))\n",
        "\n",
        "total_bigrams = new_fdist_bi.N()\n",
        "freq_values = sorted(new_fdist_bi.values(), reverse=True)\n",
        "required_bigrams = get_coverage_number(total_bigrams, 0.8, freq_values)\n",
        "display(Markdown(\"### After Stemming\"))\n",
        "print(\"Total number of bigrams: \"+str(total_bigrams))\n",
        "print(\"Bi-grams required for 80% coverage: \"+str(required_bigrams))\n",
        "\n",
        "total_trigrams = new_fdist_tri.N()\n",
        "freq_values = sorted(new_fdist_tri.values(), reverse=True)\n",
        "required_trigrams = get_coverage_number(total_trigrams, 0.7, freq_values)\n",
        "display(Markdown(\"### After Stemming\"))\n",
        "print(\"Total number of trigrams: \"+str(total_trigrams))\n",
        "print(\"Tri-grams required for 70% coverage: \"+str(required_trigrams))"
      ],
      "execution_count": null,
      "outputs": [
        {
          "output_type": "display_data",
          "data": {
            "text/markdown": "### After Stemming",
            "text/plain": [
              "<IPython.core.display.Markdown object>"
            ]
          },
          "metadata": {
            "tags": []
          }
        },
        {
          "output_type": "stream",
          "text": [
            "Total number of unigrams: 4496840\n",
            "Uni-grams required for 90% coverage: 2571\n"
          ],
          "name": "stdout"
        },
        {
          "output_type": "display_data",
          "data": {
            "text/markdown": "### After Stemming",
            "text/plain": [
              "<IPython.core.display.Markdown object>"
            ]
          },
          "metadata": {
            "tags": []
          }
        },
        {
          "output_type": "stream",
          "text": [
            "Total number of bigrams: 4496839\n",
            "Bi-grams required for 80% coverage: 123094\n"
          ],
          "name": "stdout"
        },
        {
          "output_type": "display_data",
          "data": {
            "text/markdown": "### After Stemming",
            "text/plain": [
              "<IPython.core.display.Markdown object>"
            ]
          },
          "metadata": {
            "tags": []
          }
        },
        {
          "output_type": "stream",
          "text": [
            "Total number of trigrams: 4496838\n",
            "Tri-grams required for 70% coverage: 740085\n"
          ],
          "name": "stdout"
        }
      ]
    },
    {
      "cell_type": "markdown",
      "metadata": {
        "id": "nJziUkMUSK2M"
      },
      "source": [
        "### 1.3.3.2 Liklihood Ratios"
      ]
    },
    {
      "cell_type": "code",
      "metadata": {
        "id": "qm8XJistWnsO"
      },
      "source": [
        "# to calulate the the terms log L(k,n,x)\n",
        "def get_log_term_L(k, n, x):\n",
        "  return k*np.log(x) + (n-k)*np.log(1-x)\n",
        "\n",
        "# to get log(lambda)\n",
        "def get_likelihood_ratio(c1, c2, c12, N):\n",
        "  p = c2/N\n",
        "  p1 = c12/c1\n",
        "  p2 = (c2-c12)/(N-c1)\n",
        "\n",
        "  val = get_log_term_L(c12,c1,p) + get_log_term_L(c2-c12,N-c1,p) - get_log_term_L(c12,c1,p1) - get_log_term_L(c2-c12,N-c1,p2)\n",
        "  if np.isnan(val):\n",
        "    return 0\n",
        "  return val"
      ],
      "execution_count": null,
      "outputs": []
    },
    {
      "cell_type": "code",
      "metadata": {
        "id": "qL4TBFDRWtdj",
        "outputId": "08f77bcd-ba1f-43ec-a655-285cff27ffbe",
        "colab": {
          "base_uri": "https://localhost:8080/",
          "height": 84
        }
      },
      "source": [
        "likelihood_ratios = {}\n",
        "for bigram,freq in fdist_bi_hi.items():\n",
        "  word1 = bigram[0]\n",
        "  word2 = bigram[1]\n",
        "  c12 = freq\n",
        "  N = fdist_bi_hi.N()\n",
        "  c1 = fdist_uni_hi[(word1,)]\n",
        "  c2 = fdist_uni_hi[(word2,)]\n",
        "  likelihood_ratios[bigram] = -2*get_likelihood_ratio(c1,c2,c12,N)"
      ],
      "execution_count": null,
      "outputs": [
        {
          "output_type": "stream",
          "text": [
            "/usr/local/lib/python3.6/dist-packages/ipykernel_launcher.py:3: RuntimeWarning: divide by zero encountered in log\n",
            "  This is separate from the ipykernel package so we can avoid doing imports until\n",
            "/usr/local/lib/python3.6/dist-packages/ipykernel_launcher.py:3: RuntimeWarning: invalid value encountered in double_scalars\n",
            "  This is separate from the ipykernel package so we can avoid doing imports until\n"
          ],
          "name": "stderr"
        }
      ]
    },
    {
      "cell_type": "code",
      "metadata": {
        "id": "5Umgyt8mXc1v",
        "outputId": "767c1459-8044-499c-cc06-dbf90d1f2748",
        "colab": {
          "base_uri": "https://localhost:8080/",
          "height": 101
        }
      },
      "source": [
        "display(Markdown(\"## 100 words with highest likelihood ratios\"))\n",
        "print(sorted(likelihood_ratios.items(),key= lambda x:x[1],reverse=True)[:100])"
      ],
      "execution_count": null,
      "outputs": [
        {
          "output_type": "display_data",
          "data": {
            "text/markdown": "## 100 words with highest likelihood ratios",
            "text/plain": [
              "<IPython.core.display.Markdown object>"
            ]
          },
          "metadata": {
            "tags": []
          }
        },
        {
          "output_type": "stream",
          "text": [
            "[(('है', '।'), 138558.28638433747), (('के', 'लिए'), 75839.0122588001), (('हैं', '।'), 52223.29362189642), (('जाता', 'है'), 39397.06765825569), (('के', 'साथ'), 26879.791641692253), (('था', '।'), 25167.706349993707), (('किया', 'गया'), 23583.454259396138), (('होता', 'है'), 23315.573542877042), (('रूप', 'में'), 20842.834465311258), (('जा', 'सकता'), 17029.846892680984), (('के', 'रूप'), 16144.255783066714), (('सकता', 'है'), 15367.294202345598), (('है', 'कि'), 14898.116436062177), (('करता', 'है'), 14372.401777799067), (('रूप', 'से'), 14123.598281111452), (('होते', 'हैं'), 13728.739784933481), (('गया', 'था'), 13483.281146736612), (('थे', '।'), 13381.016272630659), (('है', ','), 12710.133101326413), (('करते', 'हैं'), 12688.325505201588), (('होती', 'है'), 11485.132593765098), (('किया', 'जाता'), 10556.51986521708), (('कर', 'दिया'), 10299.36926422784), (('थी', '।'), 10208.206080880365), (('के', 'बाद'), 10049.321393972918), ((',', 'जो'), 9634.942206524844), (('करने', 'के'), 9331.63000571751), (('जाते', 'हैं'), 9047.851510306733), (('जाती', 'है'), 8737.756652384007), (('सकते', 'हैं'), 8531.14397117446), (('।', 'इस'), 8236.169324320043), (('दिया', 'गया'), 8220.766478828416), (('के', 'बीच'), 8149.690870131823), (('तौर', 'पर'), 7605.442108158197), (('के', 'कारण'), 7553.723536445152), (('के', 'अनुसार'), 7477.779303254465), (('गया', '।'), 7430.914385199663), (('के', 'के'), 7378.203471936751), ((']', ']'), 7234.768575261769), (('के', 'दौरान'), 7201.51186304784), (('[', '['), 7181.0906907151875), (('गया', 'है'), 6864.309008946875), (('कहते', 'हैं'), 6737.580853514053), (('।', 'यह'), 6722.467466018643), (('के', '।'), 6655.660219770973), (('।', 'के'), 6594.484078844544), (('इस', 'प्रकार'), 6459.366404832508), (('।', 'इसके'), 6158.126314608722), (('माना', 'जाता'), 6107.096117820925), (('कहा', 'जाता'), 6067.1076886422525), (('के', 'लिये'), 5925.403250080379), (('किया', 'जा'), 5894.660666394375), (('के', 'में'), 5708.209553989698), (('बारे', 'में'), 5645.483379171928), (('में', 'के'), 5535.595201343531), ((',', 'लेकिन'), 5358.597951525797), (('के', ','), 5327.621921271784), (('ई', '.'), 5247.404442363768), (('जाना', 'जाता'), 5212.715532904578), (('हैं', ','), 5176.644134588074), (('करते', 'हुए'), 5146.518923007439), ((',', '।'), 5116.36669776577), (('किया', '।'), 5067.3768275702605), (('।', 'में'), 4996.152769131586), (('।', ','), 4980.537669654819), (('।', '।'), 4949.213898536633), (('का', 'उपयोग'), 4921.448908922142), (('के', 'है'), 4717.91811068356), (('संयुक्त', 'राज्य'), 4643.357595270434), (('देता', 'है'), 4518.286158458213), (('हो', 'गया'), 4416.762348698627), ((',', 'के'), 4323.766932262224), (('माध्यम', 'से'), 4301.606972342182), (('है', 'के'), 4239.657965676044), (('आधार', 'पर'), 4223.952915968985), (('में', 'में'), 4212.080123551306), (('में', '।'), 4211.188674080069), (('उस', 'समय'), 4165.659150335872), (('करती', 'है'), 4165.380163825292), (('रहा', 'है'), 4157.077853151946), (('की', 'स्थापना'), 4117.498980483483), (('है', 'और'), 4088.6156630864716), (('आम', 'तौर'), 4069.8850178479606), ((',', ','), 4016.8239595324267), (('की', 'ओर'), 3919.184793311915), (('के', 'बारे'), 3910.2476296844593), (('का', 'प्रयोग'), 3898.2904768039443), (('हो', 'सकता'), 3877.680354440272), (('किए', 'गए'), 3732.837454088796), (('राज्य', 'अमेरिका'), 3660.435411134833), (('इसके', 'अलावा'), 3648.242548888191), (('साथ', 'ही'), 3611.2341647124995), ((',', 'है'), 3604.8411525363335), (('की', 'के'), 3588.13557742571), (('के', 'की'), 3576.7847163170227), (('हुआ', 'था'), 3559.318883620188), ((',', 'में'), 3545.567921693553), (('कहा', 'कि'), 3525.3907853132405), (('किसी', 'भी'), 3489.842539380421), (('है', 'में'), 3451.8901556896744)]\n"
          ],
          "name": "stdout"
        }
      ]
    },
    {
      "cell_type": "markdown",
      "metadata": {
        "id": "zTuRaekaSvA4"
      },
      "source": [
        "## 1.3.4 Morphological parsing"
      ]
    },
    {
      "cell_type": "code",
      "metadata": {
        "id": "rYZGdWoCdRvK"
      },
      "source": [
        "freq_dist_ordered_list = FreqDist(word_tokenize_list_hi).most_common()\n",
        "most_frequent_words = freq_dist_ordered_list[:100]\n",
        "least_frequent_words = freq_dist_ordered_list[-100:]"
      ],
      "execution_count": null,
      "outputs": []
    },
    {
      "cell_type": "code",
      "metadata": {
        "id": "CrzbpPcGdWdU"
      },
      "source": [
        "random.seed(13)\n",
        "random_5_most_frequent_hi = random.sample(most_frequent_words, 5)\n",
        "random_5_least_frequent_hi = random.sample(least_frequent_words, 5)"
      ],
      "execution_count": null,
      "outputs": []
    },
    {
      "cell_type": "code",
      "metadata": {
        "id": "1oVI7RZCfFBb",
        "outputId": "3fe82735-52f7-4a51-e378-981fc65642a3",
        "colab": {
          "base_uri": "https://localhost:8080/",
          "height": 382
        }
      },
      "source": [
        "most_frequent_morphemes = []\n",
        "for w in random_5_most_frequent_hi:\n",
        "  w = Word(w[0], language=\"hi\")\n",
        "  most_frequent_morphemes.append(w.morphemes)\n",
        "least_frequent_morphemes = []\n",
        "for w in random_5_least_frequent_hi:\n",
        "  w = Word(w[0], language=\"hi\")\n",
        "  least_frequent_morphemes.append(w.morphemes)\n",
        "\n",
        "text_most_frequent = [i[0] for i in random_5_most_frequent_hi]\n",
        "text_least_frequent = [i[0] for i in random_5_least_frequent_hi]\n",
        "pos_tag_most_frequent = pos_tag(text_most_frequent,lang='hi')\n",
        "pos_tag_least_frequent = pos_tag(text_least_frequent,lang='hi')\n",
        "\n",
        "display(Markdown(\"## Morphological Analysis\"))\n",
        "display(Markdown(\"### For random 5 words from 100 most frequent\"))\n",
        "display(Markdown(\"### Word --> morphemes + POS Tag\"))\n",
        "for index in range(5):\n",
        "  print(random_5_most_frequent_hi[index][0] + \" --> \" + str(most_frequent_morphemes[index]) + \" + \" + pos_tag_most_frequent[index][1])\n",
        "display(Markdown(\"### For random 5 words from 100 least frequent\"))\n",
        "display(Markdown(\"### Word --> morphemes + POS Tag\"))\n",
        "for index in range(5):\n",
        "  print(random_5_least_frequent_hi[index][0] + \" --> \" + str(least_frequent_morphemes[index]) + \" + \" + pos_tag_least_frequent[index][1])"
      ],
      "execution_count": null,
      "outputs": [
        {
          "output_type": "display_data",
          "data": {
            "text/markdown": "## Morphological Analysis",
            "text/plain": [
              "<IPython.core.display.Markdown object>"
            ]
          },
          "metadata": {
            "tags": []
          }
        },
        {
          "output_type": "display_data",
          "data": {
            "text/markdown": "### For random 5 words from 100 most frequent",
            "text/plain": [
              "<IPython.core.display.Markdown object>"
            ]
          },
          "metadata": {
            "tags": []
          }
        },
        {
          "output_type": "display_data",
          "data": {
            "text/markdown": "### Word --> morphemes + POS Tag",
            "text/plain": [
              "<IPython.core.display.Markdown object>"
            ]
          },
          "metadata": {
            "tags": []
          }
        },
        {
          "output_type": "stream",
          "text": [
            "जाता --> ['जा', 'ता'] + JJ\n",
            "द्वारा --> ['द्वारा'] + NNP\n",
            "जैसे --> ['जैस', 'े'] + NNP\n",
            "कि --> ['कि'] + NNP\n",
            "किसी --> ['किस', 'ी'] + NN\n"
          ],
          "name": "stdout"
        },
        {
          "output_type": "display_data",
          "data": {
            "text/markdown": "### For random 5 words from 100 least frequent",
            "text/plain": [
              "<IPython.core.display.Markdown object>"
            ]
          },
          "metadata": {
            "tags": []
          }
        },
        {
          "output_type": "display_data",
          "data": {
            "text/markdown": "### Word --> morphemes + POS Tag",
            "text/plain": [
              "<IPython.core.display.Markdown object>"
            ]
          },
          "metadata": {
            "tags": []
          }
        },
        {
          "output_type": "stream",
          "text": [
            "दरजी --> ['दर', 'जी'] + JJ\n",
            "आधीनस्थ --> ['आध', 'ी', 'न', 'स्थ'] + NNP\n",
            "एक्सटीरियर --> ['एक्स', 'टी', 'रियर'] + NNP\n",
            "मूर्खतापूर्ण --> ['मूर्ख', 'ता', 'पूर्ण'] + NNP\n",
            "मोर्गेसों --> ['मोर्', 'गे', 'स', 'ों'] + NN\n"
          ],
          "name": "stdout"
        }
      ]
    },
    {
      "cell_type": "markdown",
      "metadata": {
        "id": "wF34ayVFS1mB"
      },
      "source": [
        "## 1.3.5 Sub-word tokenization(BPE)"
      ]
    },
    {
      "cell_type": "code",
      "metadata": {
        "id": "5LfTW1fvj8Zg"
      },
      "source": [
        "# Defining functions for BPE\n",
        "\n",
        "def get_vocab(freq_dist):\n",
        "  vocab = {}\n",
        "  for key, value in freq_dist.items():\n",
        "    if(len(key[0])>=3):\n",
        "      word = \" \".join(key[0]) + \" </w>\"\n",
        "      vocab[word] = value\n",
        "  return vocab\n",
        "\n",
        "def get_stats(vocab):\n",
        "    pairs = collections.defaultdict(int)\n",
        "    for word, freq in vocab.items():\n",
        "      symbols = word.split()\n",
        "      for i in range(len(symbols)-1):\n",
        "        pairs[symbols[i],symbols[i+1]] += freq\n",
        "    return pairs\n",
        "\n",
        "def merge_vocab(pair, v_in):\n",
        "    v_out = {}\n",
        "    bigram = re.escape(' '.join(pair))\n",
        "    p = re.compile(r'(?<!\\S)' + bigram + r'(?!\\S)')\n",
        "    for word in v_in:\n",
        "      w_out = p.sub(''.join(pair), word)\n",
        "      v_out[w_out] = v_in[word]\n",
        "    return v_out\n",
        "\n",
        "def get_tokens(pair, v_in): \n",
        "  v_out = []\n",
        "  bigram = re.escape(' '.join(pair))\n",
        "  p = re.compile(r'(?<!\\S)' + bigram + r'(?!\\S)')\n",
        " \n",
        "  for word in v_in:\n",
        "    w_out = p.sub(''.join(pair), word)\n",
        "    v_out.append(w_out)\n",
        "\n",
        "  return v_out"
      ],
      "execution_count": null,
      "outputs": []
    },
    {
      "cell_type": "code",
      "metadata": {
        "id": "NmekkXq-kFx6"
      },
      "source": [
        "# Leaning merges\n",
        "\n",
        "fdist_uni_dict = dict(fdist_uni_hi)\n",
        "vocab = dict(list(get_vocab(fdist_uni_dict).items())[:3000])\n",
        "\n",
        "learned_merges = []\n",
        "num_merges = 4500\n",
        "\n",
        "for i in range(num_merges):\n",
        "    pairs = get_stats(vocab)\n",
        "    if not pairs:\n",
        "      print(\"I broke at \" + str(i))\n",
        "      break\n",
        "    best = max(pairs, key=pairs.get)\n",
        "    learned_merges.append((best,pairs[best]))\n",
        "    vocab = merge_vocab(best, vocab)"
      ],
      "execution_count": null,
      "outputs": []
    },
    {
      "cell_type": "code",
      "metadata": {
        "id": "_STr2zn1kLIC",
        "outputId": "860090db-58b6-4dea-9ce0-6620dd9fc060",
        "colab": {
          "base_uri": "https://localhost:8080/",
          "height": 151
        }
      },
      "source": [
        "sorted_learned_merges = sorted(learned_merges, key = lambda x: x[1])\n",
        "display(Markdown(\"### 50 most frequent tokens\"))\n",
        "print(sorted_learned_merges[-50:])\n",
        "display(Markdown(\"### 50 least frequent tokens\"))\n",
        "print(sorted_learned_merges[:50])"
      ],
      "execution_count": null,
      "outputs": [
        {
          "output_type": "display_data",
          "data": {
            "text/markdown": "### 50 most frequent tokens",
            "text/plain": [
              "<IPython.core.display.Markdown object>"
            ]
          },
          "metadata": {
            "tags": []
          }
        },
        {
          "output_type": "stream",
          "text": [
            "[(('र', 'ू'), 10560), (('द', 'ि'), 10573), (('स', 'ं'), 11294), (('उ', 'न'), 11403), (('ग', '</w>'), 11428), (('ह', 'ु'), 11551), (('्य', '</w>'), 11673), (('य', '</w>'), 11930), (('स', 'े</w>'), 12532), (('र', '</w>'), 12663), (('म', 'ा'), 13019), (('त', 'े</w>'), 13398), (('त', 'ि'), 13428), (('न', 'ा</w>'), 13612), (('स', 'ा'), 13679), (('कि', 'या</w>'), 13750), (('म', '</w>'), 13922), (('लि', 'ए</w>'), 13954), (('क', '्'), 14344), (('ो', 'ं</w>'), 14572), (('ल', '</w>'), 14610), (('ार', '</w>'), 14610), (('ज', 'ा'), 16903), (('स', 'क'), 17475), (('व', 'ि'), 17725), (('ह', 'ो'), 18819), (('र', '्'), 19149), (('ल', 'ि'), 19176), (('क', '</w>'), 20270), (('ए', '</w>'), 21088), (('ह', 'ैं</w>'), 21224), (('ै', 'ं</w>'), 21736), (('क', 'र'), 21886), (('स', '्'), 23207), (('क', 'ि'), 25789), (('प', '्र'), 25857), (('त', 'ा</w>'), 26575), (('त', '</w>'), 28946), (('न', 'े</w>'), 29838), (('्', 'य'), 30298), (('न', '</w>'), 34005), (('य', 'ा</w>'), 36984), (('ा', 'र'), 38860), (('्', 'र'), 47128), (('ी', '</w>'), 54267), (('म', 'ें</w>'), 71297), (('े', 'ं</w>'), 74650), (('े', '</w>'), 85063), (('ा', '</w>'), 123841), (('ं', '</w>'), 127912)]\n"
          ],
          "name": "stdout"
        },
        {
          "output_type": "display_data",
          "data": {
            "text/markdown": "### 50 least frequent tokens",
            "text/plain": [
              "<IPython.core.display.Markdown object>"
            ]
          },
          "metadata": {
            "tags": []
          }
        },
        {
          "output_type": "stream",
          "text": [
            "[(('एच', 'ए</w>'), 5), (('स्नात', 'कों</w>'), 5), (('सम', 'वर्ती</w>'), 5), (('अ', 'सा'), 5), (('अस', 'दु'), 5), (('असदु', 'द्दीन</w>'), 5), (('i', 'n'), 5), (('हा', 'फि'), 5), (('हाफि', 'ज</w>'), 5), (('हि', 'ंदु'), 5), (('नारा', 'जग'), 5), (('नाराजग', 'ी</w>'), 5), (('पुन', 'रा'), 5), (('अनु', 'क्रमणी</w>'), 5), (('त्', '</w>'), 5), (('निर्', 'व'), 5), (('निर्व', 'चन</w>'), 5), (('शौन', 'क</w>'), 5), (('गद्या', 'त्मक</w>'), 5), (('प्रण', 'े'), 5), (('प्रणे', 'ता</w>'), 5), (('परिच', 'या'), 5), (('परिचया', 'त्मक</w>'), 5), (('ऑ', 'क्स'), 5), (('ऑक्स', 'फ़र्'), 5), (('ग्रेजु', 'एशन</w>'), 6), (('सर', 'ं'), 6), (('सरं', 'चना</w>'), 6), (('ग्रेजु', 'एट</w>'), 6), (('बी', 'डी'), 6), (('बीडी', 'एस</w>'), 6), (('बीए', 'स'), 6), (('बीएस', 'सी</w>'), 6), (('द', 'ं'), 6), (('दं', 'पति</w>'), 6), (('स', 'ई'), 6), (('सई', 'द</w>'), 6), (('न', 'ारा'), 6), (('ज', 'य'), 6), (('वा', 'ङ'), 6), (('वाङ', '्म'), 6), (('वाङ्म', 'य</w>'), 6), (('या', 'ँ</w>'), 6), (('उ', 'सी</w>'), 6), (('य', 'थ'), 6), (('परि', 'च'), 6), (('फ़', 'र्'), 6), (('द', 'स्ता'), 6), (('दस्ता', 'वे'), 6), (('दस्तावे', 'ज़'), 6)]\n"
          ],
          "name": "stdout"
        }
      ]
    },
    {
      "cell_type": "code",
      "metadata": {
        "id": "VD-1wTNrkmZ-",
        "outputId": "d50742d7-1985-4336-c56a-857ff50c10b4",
        "colab": {
          "base_uri": "https://localhost:8080/",
          "height": 232
        }
      },
      "source": [
        "# Tokenization for 10 unknown words\n",
        "unknown_words = ['विभीषिका', 'किंकर्तव्यविमूढ़', 'व्योमबाला', 'वैतरिणी', 'निक्षेपक', 'स्वतांत्रयोत्तर', 'रासस्मीकरण', 'धृष्टता', 'अच्युतानंद', 'प्रत्युत्पन्नमति ']\n",
        "\n",
        "unknown_words_list = [ ' '.join(w)+\" </w>\" for w in unknown_words]\n",
        "for lm in learned_merges:\n",
        "  unknown_words_list = get_tokens(lm[0], unknown_words_list)\n",
        "\n",
        "display(Markdown(\"## Tokenization of unknown words\"))\n",
        "for i in range(10):\n",
        "  print(unknown_words[i] + ' --> ' + str(unknown_words_list[i][:-4].split()))"
      ],
      "execution_count": null,
      "outputs": [
        {
          "output_type": "display_data",
          "data": {
            "text/markdown": "## Tokenization of unknown words",
            "text/plain": [
              "<IPython.core.display.Markdown object>"
            ]
          },
          "metadata": {
            "tags": []
          }
        },
        {
          "output_type": "stream",
          "text": [
            "विभीषिका --> ['वि', 'भी', 'ष', 'ि', 'का']\n",
            "किंकर्तव्यविमूढ़ --> ['कि', 'ं', 'कर्', 'त', 'व्य', 'वि', 'मू', 'ढ़']\n",
            "व्योमबाला --> ['व्य', 'ो', 'म', 'ब', 'ाला']\n",
            "वैतरिणी --> ['वै', 'त', 'रि', 'णी']\n",
            "निक्षेपक --> ['नि', 'क्षे', 'प', 'क']\n",
            "स्वतांत्रयोत्तर --> ['स्व', 'ता', 'ं', 'त्र', 'यो', 'त्तर']\n",
            "रासस्मीकरण --> ['रा', 'स', 'स्', 'मी', 'करण']\n",
            "धृष्टता --> ['ध', 'ृ', 'ष्ट', 'ता']\n",
            "अच्युतानंद --> ['अ', 'च', '्य', 'ु', 'ता', 'न', 'ंद']\n",
            "प्रत्युत्पन्नमति  --> ['प्रत्य', 'ु', 'त्', 'प', 'न्', 'न', 'म', 'ति']\n"
          ],
          "name": "stdout"
        }
      ]
    },
    {
      "cell_type": "code",
      "metadata": {
        "id": "uoFz528IrVG_",
        "outputId": "f9bcd309-eee9-477a-be19-f30266c5f8e7",
        "colab": {
          "base_uri": "https://localhost:8080/",
          "height": 578
        }
      },
      "source": [
        "display(Markdown(\"## Comparison of tokens with morphemes\"))\n",
        "\n",
        "unknown_words_list = [ ' '.join(w[0])+\" </w>\" for w in random_5_most_frequent_hi]\n",
        "for lm in learned_merges:\n",
        "  unknown_words_list = get_tokens(lm[0], unknown_words_list)\n",
        "\n",
        "display(Markdown(\"### For random 5 words from 100 most frequent\"))\n",
        "print(\"\\nWord\" + \"    -->    \" + \"From Polyglot\" + \"    and    \" + \"From BPE \\n\" )\n",
        "i=0\n",
        "for pair in random_5_most_frequent_hi:\n",
        "  word = pair[0]\n",
        "  morphemes = Word(word, language=\"hi\").morphemes\n",
        "  print(word + \"    -->    \" + str(morphemes) + \"    and    \" +str(unknown_words_list[i][:-4].split()) + ' \\n')\n",
        "  i+=1\n",
        "\n",
        "unknown_words_list = [ ' '.join(w[0])+\" </w>\" for w in random_5_least_frequent_hi]\n",
        "for lm in learned_merges:\n",
        "  unknown_words_list = get_tokens(lm[0], unknown_words_list)\n",
        "\n",
        "display(Markdown(\"### For random 5 words from 100 least frequent\"))\n",
        "print(\"\\nWord\" + \"    -->    \" + \"From Polyglot\" + \"    and    \" + \"From BPE \\n\" )\n",
        "i=0\n",
        "for pair in random_5_least_frequent_hi:\n",
        "  word = pair[0]\n",
        "  morphemes = Word(word, language=\"hi\").morphemes\n",
        "  print(word + \"    -->    \" + str(morphemes) + \"    and    \" +str(unknown_words_list[i][:-4].split()) + ' \\n')\n",
        "  i+=1"
      ],
      "execution_count": null,
      "outputs": [
        {
          "output_type": "display_data",
          "data": {
            "text/markdown": "## Comparison of tokens with morphemes",
            "text/plain": [
              "<IPython.core.display.Markdown object>"
            ]
          },
          "metadata": {
            "tags": []
          }
        },
        {
          "output_type": "display_data",
          "data": {
            "text/markdown": "### For random 5 words from 100 most frequent",
            "text/plain": [
              "<IPython.core.display.Markdown object>"
            ]
          },
          "metadata": {
            "tags": []
          }
        },
        {
          "output_type": "stream",
          "text": [
            "\n",
            "Word    -->    From Polyglot    and    From BPE \n",
            "\n",
            "जाता    -->    ['जा', 'ता']    and    ['जाता'] \n",
            "\n",
            "द्वारा    -->    ['द्वारा']    and    ['द्वारा'] \n",
            "\n",
            "जैसे    -->    ['जैस', 'े']    and    ['जैसे'] \n",
            "\n",
            "कि    -->    ['कि']    and    ['कि'] \n",
            "\n",
            "किसी    -->    ['किस', 'ी']    and    ['किसी'] \n",
            "\n"
          ],
          "name": "stdout"
        },
        {
          "output_type": "display_data",
          "data": {
            "text/markdown": "### For random 5 words from 100 least frequent",
            "text/plain": [
              "<IPython.core.display.Markdown object>"
            ]
          },
          "metadata": {
            "tags": []
          }
        },
        {
          "output_type": "stream",
          "text": [
            "\n",
            "Word    -->    From Polyglot    and    From BPE \n",
            "\n",
            "दरजी    -->    ['दर', 'जी']    and    ['दर', 'जी'] \n",
            "\n",
            "आधीनस्थ    -->    ['आध', 'ी', 'न', 'स्थ']    and    ['आध', 'ी', 'न', 'स्थ'] \n",
            "\n",
            "एक्सटीरियर    -->    ['एक्स', 'टी', 'रियर']    and    ['ए', 'क्स', 'टी', 'रि', 'यर'] \n",
            "\n",
            "मूर्खतापूर्ण    -->    ['मूर्ख', 'ता', 'पूर्ण']    and    ['मू', 'र्', 'ख', 'त', 'ाप', 'ूर्', 'ण'] \n",
            "\n",
            "मोर्गेसों    -->    ['मोर्', 'गे', 'स', 'ों']    and    ['मो', 'र्', 'गे', 'सों'] \n",
            "\n"
          ],
          "name": "stdout"
        }
      ]
    },
    {
      "cell_type": "code",
      "metadata": {
        "id": "XqjNIXJVWtDR"
      },
      "source": [
        "# Alternative way to download files\n",
        "# Uploading files by mounting google drive\n",
        "# from google.colab import drive\n",
        "# drive.mount('/content/drive')"
      ],
      "execution_count": null,
      "outputs": []
    }
  ]
}